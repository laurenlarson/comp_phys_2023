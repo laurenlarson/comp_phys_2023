{
 "cells": [
  {
   "cell_type": "code",
   "execution_count": 1,
   "metadata": {},
   "outputs": [],
   "source": [
    "import pandas as pd"
   ]
  },
  {
   "cell_type": "code",
   "execution_count": 2,
   "metadata": {},
   "outputs": [],
   "source": [
    "colNames = ['Pair Mass', 'Muon 1 Energy', 'Muon 2 Energy', 'Muon 1 pT', 'Muon 2 pT','Muon 1 Eta', 'Muon 2 Eta', 'Muon 1 Phi', 'Muon 2 Phi','Muon 1 Rapidity', 'Muon 2 Rapidity']"
   ]
  },
  {
   "cell_type": "code",
   "execution_count": 4,
   "metadata": {},
   "outputs": [],
   "source": [
    "df = pd.read_csv(\"MCdataFrame.csv\", names=colNames )"
   ]
  },
  {
   "cell_type": "code",
   "execution_count": 5,
   "metadata": {},
   "outputs": [
    {
     "data": {
      "text/html": [
       "<div>\n",
       "<style scoped>\n",
       "    .dataframe tbody tr th:only-of-type {\n",
       "        vertical-align: middle;\n",
       "    }\n",
       "\n",
       "    .dataframe tbody tr th {\n",
       "        vertical-align: top;\n",
       "    }\n",
       "\n",
       "    .dataframe thead th {\n",
       "        text-align: right;\n",
       "    }\n",
       "</style>\n",
       "<table border=\"1\" class=\"dataframe\">\n",
       "  <thead>\n",
       "    <tr style=\"text-align: right;\">\n",
       "      <th></th>\n",
       "      <th>Pair Mass</th>\n",
       "      <th>Muon 1 Energy</th>\n",
       "      <th>Muon 2 Energy</th>\n",
       "      <th>Muon 1 pT</th>\n",
       "      <th>Muon 2 pT</th>\n",
       "      <th>Muon 1 Eta</th>\n",
       "      <th>Muon 2 Eta</th>\n",
       "      <th>Muon 1 Phi</th>\n",
       "      <th>Muon 2 Phi</th>\n",
       "      <th>Muon 1 Rapidity</th>\n",
       "      <th>Muon 2 Rapidity</th>\n",
       "    </tr>\n",
       "  </thead>\n",
       "  <tbody>\n",
       "    <tr>\n",
       "      <th>0</th>\n",
       "      <td>5.95006</td>\n",
       "      <td>11.3722</td>\n",
       "      <td>10.36900</td>\n",
       "      <td>9.23650</td>\n",
       "      <td>5.70456</td>\n",
       "      <td>-0.667488</td>\n",
       "      <td>-1.204570</td>\n",
       "      <td>3.06836</td>\n",
       "      <td>-2.598230</td>\n",
       "      <td>-0.66745</td>\n",
       "      <td>-1.204430</td>\n",
       "    </tr>\n",
       "    <tr>\n",
       "      <th>1</th>\n",
       "      <td>4.12652</td>\n",
       "      <td>11.3722</td>\n",
       "      <td>6.23643</td>\n",
       "      <td>9.23650</td>\n",
       "      <td>4.72168</td>\n",
       "      <td>-0.667488</td>\n",
       "      <td>-0.780786</td>\n",
       "      <td>3.06836</td>\n",
       "      <td>-2.595470</td>\n",
       "      <td>-0.66745</td>\n",
       "      <td>-0.780623</td>\n",
       "    </tr>\n",
       "    <tr>\n",
       "      <th>2</th>\n",
       "      <td>11.79740</td>\n",
       "      <td>11.3722</td>\n",
       "      <td>3.91395</td>\n",
       "      <td>9.23650</td>\n",
       "      <td>3.88866</td>\n",
       "      <td>-0.667488</td>\n",
       "      <td>-0.110712</td>\n",
       "      <td>3.06836</td>\n",
       "      <td>-0.771145</td>\n",
       "      <td>-0.66745</td>\n",
       "      <td>-0.110671</td>\n",
       "    </tr>\n",
       "    <tr>\n",
       "      <th>3</th>\n",
       "      <td>2.24211</td>\n",
       "      <td>10.3690</td>\n",
       "      <td>6.23643</td>\n",
       "      <td>5.70456</td>\n",
       "      <td>4.72168</td>\n",
       "      <td>-1.204570</td>\n",
       "      <td>-0.780786</td>\n",
       "      <td>-2.59823</td>\n",
       "      <td>-2.595470</td>\n",
       "      <td>-1.20443</td>\n",
       "      <td>-0.780623</td>\n",
       "    </tr>\n",
       "    <tr>\n",
       "      <th>4</th>\n",
       "      <td>9.23908</td>\n",
       "      <td>10.3690</td>\n",
       "      <td>3.91395</td>\n",
       "      <td>5.70456</td>\n",
       "      <td>3.88866</td>\n",
       "      <td>-1.204570</td>\n",
       "      <td>-0.110712</td>\n",
       "      <td>-2.59823</td>\n",
       "      <td>-0.771145</td>\n",
       "      <td>-1.20443</td>\n",
       "      <td>-0.110671</td>\n",
       "    </tr>\n",
       "  </tbody>\n",
       "</table>\n",
       "</div>"
      ],
      "text/plain": [
       "   Pair Mass  Muon 1 Energy  Muon 2 Energy  Muon 1 pT  Muon 2 pT  Muon 1 Eta  \\\n",
       "0    5.95006        11.3722       10.36900    9.23650    5.70456   -0.667488   \n",
       "1    4.12652        11.3722        6.23643    9.23650    4.72168   -0.667488   \n",
       "2   11.79740        11.3722        3.91395    9.23650    3.88866   -0.667488   \n",
       "3    2.24211        10.3690        6.23643    5.70456    4.72168   -1.204570   \n",
       "4    9.23908        10.3690        3.91395    5.70456    3.88866   -1.204570   \n",
       "\n",
       "   Muon 2 Eta  Muon 1 Phi  Muon 2 Phi  Muon 1 Rapidity  Muon 2 Rapidity  \n",
       "0   -1.204570     3.06836   -2.598230         -0.66745        -1.204430  \n",
       "1   -0.780786     3.06836   -2.595470         -0.66745        -0.780623  \n",
       "2   -0.110712     3.06836   -0.771145         -0.66745        -0.110671  \n",
       "3   -0.780786    -2.59823   -2.595470         -1.20443        -0.780623  \n",
       "4   -0.110712    -2.59823   -0.771145         -1.20443        -0.110671  "
      ]
     },
     "execution_count": 5,
     "metadata": {},
     "output_type": "execute_result"
    }
   ],
   "source": [
    "df.head()"
   ]
  },
  {
   "cell_type": "code",
   "execution_count": 7,
   "metadata": {},
   "outputs": [],
   "source": [
    "df.to_csv(\"data_100Kevt.csv\")"
   ]
  },
  {
   "cell_type": "code",
   "execution_count": 8,
   "metadata": {},
   "outputs": [
    {
     "name": "stdout",
     "output_type": "stream",
     "text": [
      "<class 'pandas.core.frame.DataFrame'>\n",
      "RangeIndex: 338972 entries, 0 to 338971\n",
      "Data columns (total 11 columns):\n",
      " #   Column           Non-Null Count   Dtype  \n",
      "---  ------           --------------   -----  \n",
      " 0   Pair Mass        338972 non-null  float64\n",
      " 1   Muon 1 Energy    338972 non-null  float64\n",
      " 2   Muon 2 Energy    338972 non-null  float64\n",
      " 3   Muon 1 pT        338972 non-null  float64\n",
      " 4   Muon 2 pT        338972 non-null  float64\n",
      " 5   Muon 1 Eta       338972 non-null  float64\n",
      " 6   Muon 2 Eta       338972 non-null  float64\n",
      " 7   Muon 1 Phi       338972 non-null  float64\n",
      " 8   Muon 2 Phi       338972 non-null  float64\n",
      " 9   Muon 1 Rapidity  338972 non-null  float64\n",
      " 10  Muon 2 Rapidity  338972 non-null  float64\n",
      "dtypes: float64(11)\n",
      "memory usage: 28.4 MB\n"
     ]
    }
   ],
   "source": [
    "df.info()"
   ]
  },
  {
   "cell_type": "code",
   "execution_count": 25,
   "metadata": {},
   "outputs": [],
   "source": [
    "train1 = df.iloc[:25000]\n",
    "train2 = df.iloc[25000:50000]\n",
    "train3 = df.iloc[50000:75000]\n",
    "train4 = df.iloc[75000:100000]\n",
    "train5 = df.iloc[100000:125000]\n",
    "train6 = df.iloc[125000:150000]\n",
    "train7 = df.iloc[150000:175000]\n",
    "train8 = df.iloc[175000:200000]\n",
    "finalD = df.iloc[200000:]\n"
   ]
  },
  {
   "cell_type": "code",
   "execution_count": 26,
   "metadata": {},
   "outputs": [
    {
     "name": "stdout",
     "output_type": "stream",
     "text": [
      "<class 'pandas.core.frame.DataFrame'>\n",
      "RangeIndex: 25000 entries, 0 to 24999\n",
      "Data columns (total 11 columns):\n",
      " #   Column           Non-Null Count  Dtype  \n",
      "---  ------           --------------  -----  \n",
      " 0   Pair Mass        25000 non-null  float64\n",
      " 1   Muon 1 Energy    25000 non-null  float64\n",
      " 2   Muon 2 Energy    25000 non-null  float64\n",
      " 3   Muon 1 pT        25000 non-null  float64\n",
      " 4   Muon 2 pT        25000 non-null  float64\n",
      " 5   Muon 1 Eta       25000 non-null  float64\n",
      " 6   Muon 2 Eta       25000 non-null  float64\n",
      " 7   Muon 1 Phi       25000 non-null  float64\n",
      " 8   Muon 2 Phi       25000 non-null  float64\n",
      " 9   Muon 1 Rapidity  25000 non-null  float64\n",
      " 10  Muon 2 Rapidity  25000 non-null  float64\n",
      "dtypes: float64(11)\n",
      "memory usage: 2.1 MB\n"
     ]
    }
   ],
   "source": [
    "train1.info()"
   ]
  },
  {
   "cell_type": "code",
   "execution_count": 27,
   "metadata": {},
   "outputs": [
    {
     "name": "stdout",
     "output_type": "stream",
     "text": [
      "<class 'pandas.core.frame.DataFrame'>\n",
      "RangeIndex: 138972 entries, 200000 to 338971\n",
      "Data columns (total 11 columns):\n",
      " #   Column           Non-Null Count   Dtype  \n",
      "---  ------           --------------   -----  \n",
      " 0   Pair Mass        138972 non-null  float64\n",
      " 1   Muon 1 Energy    138972 non-null  float64\n",
      " 2   Muon 2 Energy    138972 non-null  float64\n",
      " 3   Muon 1 pT        138972 non-null  float64\n",
      " 4   Muon 2 pT        138972 non-null  float64\n",
      " 5   Muon 1 Eta       138972 non-null  float64\n",
      " 6   Muon 2 Eta       138972 non-null  float64\n",
      " 7   Muon 1 Phi       138972 non-null  float64\n",
      " 8   Muon 2 Phi       138972 non-null  float64\n",
      " 9   Muon 1 Rapidity  138972 non-null  float64\n",
      " 10  Muon 2 Rapidity  138972 non-null  float64\n",
      "dtypes: float64(11)\n",
      "memory usage: 11.7 MB\n"
     ]
    }
   ],
   "source": [
    "finalD.info()"
   ]
  },
  {
   "cell_type": "code",
   "execution_count": 28,
   "metadata": {},
   "outputs": [],
   "source": [
    "train1.to_csv(\"trainDataset1.csv\")\n",
    "train2.to_csv(\"trainDataset2.csv\")\n",
    "train3.to_csv(\"trainDataset3.csv\")\n",
    "train4.to_csv(\"trainDataset4.csv\")\n",
    "train5.to_csv(\"trainDataset5.csv\")\n",
    "train6.to_csv(\"trainDataset6.csv\")\n",
    "train7.to_csv(\"trainDataset7.csv\")\n",
    "train8.to_csv(\"trainDataset8.csv\")\n",
    "finalD.to_csv(\"finalDataset.csv\")"
   ]
  },
  {
   "cell_type": "code",
   "execution_count": null,
   "metadata": {},
   "outputs": [],
   "source": []
  }
 ],
 "metadata": {
  "kernelspec": {
   "display_name": "Python 3",
   "language": "python",
   "name": "python3"
  },
  "language_info": {
   "codemirror_mode": {
    "name": "ipython",
    "version": 3
   },
   "file_extension": ".py",
   "mimetype": "text/x-python",
   "name": "python",
   "nbconvert_exporter": "python",
   "pygments_lexer": "ipython3",
   "version": "3.11.6"
  }
 },
 "nbformat": 4,
 "nbformat_minor": 2
}
