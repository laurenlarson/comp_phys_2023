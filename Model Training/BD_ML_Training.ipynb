{
 "cells": [
  {
   "cell_type": "markdown",
   "id": "fce02f37aa4ed0f9",
   "metadata": {
    "collapsed": false
   },
   "source": [
    "# Invariant Mass Prediction Using ML\n",
    "## Bryan Dinh\n",
    "### Comp_Phys Final Project 2023"
   ]
  },
  {
   "cell_type": "markdown",
   "id": "898b50cd0e98a9b",
   "metadata": {
    "collapsed": false
   },
   "source": [
    "Model Goal: Predict the invariant mass of a particle decay process which results in the creation of two muons. "
   ]
  },
  {
   "cell_type": "code",
   "execution_count": 6,
   "id": "f9aee7fa55da6fc1",
   "metadata": {
    "collapsed": false,
    "ExecuteTime": {
     "end_time": "2023-11-26T04:43:05.024464Z",
     "start_time": "2023-11-26T04:43:05.018692Z"
    }
   },
   "outputs": [],
   "source": [
    "import os\n",
    "import pandas as pd\n",
    "import tensorflow as tf\n",
    "#from tensorflow import keras\n",
    "import numpy as np"
   ]
  },
  {
   "cell_type": "markdown",
   "id": "40bfe95f1f958dd4",
   "metadata": {
    "collapsed": false
   },
   "source": [
    "# Load and Prepare Data\n",
    "Load the training and testing datasets to train our model. From there format the .csv files into a pandas dataframe which will be used throughout the notebook. We'll need to define the data parameters as well as the target parameters. In this case, we will be looking for the pair mass of a particle before it decays into two muons. The data parameters consist of position and momentum data, among others, of the decay products."
   ]
  },
  {
   "cell_type": "code",
   "execution_count": 7,
   "id": "baa313c260f2b842",
   "metadata": {
    "collapsed": false,
    "ExecuteTime": {
     "end_time": "2023-11-26T04:43:08.572388Z",
     "start_time": "2023-11-26T04:43:08.467977Z"
    }
   },
   "outputs": [
    {
     "name": "stdout",
     "output_type": "stream",
     "text": [
      "/Users/bryandinh/PycharmProjects/comp_phys_2023/Data\n"
     ]
    },
    {
     "data": {
      "text/plain": "       Pair Mass  Muon 1 Energy  Muon 2 Energy  Muon 1 pT  Muon 2 pT  \\\n25000    4.19125        5.06381        7.09718    4.57564    3.71216   \n25001    8.59466        5.27870        7.09718    4.45581    3.71216   \n25002   22.63070        8.01042       27.69420    7.59714    5.36723   \n25003   12.34510        8.01042        5.55988    7.59714    5.32962   \n25004    9.41510        8.01042        3.98217    7.59714    3.74132   \n\n       Muon 1 Eta  Muon 2 Eta  Muon 1 Phi  Muon 2 Phi  Muon 1 Rapidity  \\\n25000    0.457408    1.264380    3.039380    2.447480         0.457294   \n25001    0.598385    1.264380   -0.631795    2.447480         0.598235   \n25002   -0.328096    2.324520   -2.621600   -0.978774        -0.328065   \n25003   -0.328096   -0.292268   -2.621600    0.039000        -0.328065   \n25004   -0.328096   -0.355897   -2.621600    1.475980        -0.328065   \n\n       Muon 2 Rapidity  \n25000         1.264040  \n25001         1.264040  \n25002         2.324330  \n25003        -0.292212  \n25004        -0.355761  ",
      "text/html": "<div>\n<style scoped>\n    .dataframe tbody tr th:only-of-type {\n        vertical-align: middle;\n    }\n\n    .dataframe tbody tr th {\n        vertical-align: top;\n    }\n\n    .dataframe thead th {\n        text-align: right;\n    }\n</style>\n<table border=\"1\" class=\"dataframe\">\n  <thead>\n    <tr style=\"text-align: right;\">\n      <th></th>\n      <th>Pair Mass</th>\n      <th>Muon 1 Energy</th>\n      <th>Muon 2 Energy</th>\n      <th>Muon 1 pT</th>\n      <th>Muon 2 pT</th>\n      <th>Muon 1 Eta</th>\n      <th>Muon 2 Eta</th>\n      <th>Muon 1 Phi</th>\n      <th>Muon 2 Phi</th>\n      <th>Muon 1 Rapidity</th>\n      <th>Muon 2 Rapidity</th>\n    </tr>\n  </thead>\n  <tbody>\n    <tr>\n      <th>25000</th>\n      <td>4.19125</td>\n      <td>5.06381</td>\n      <td>7.09718</td>\n      <td>4.57564</td>\n      <td>3.71216</td>\n      <td>0.457408</td>\n      <td>1.264380</td>\n      <td>3.039380</td>\n      <td>2.447480</td>\n      <td>0.457294</td>\n      <td>1.264040</td>\n    </tr>\n    <tr>\n      <th>25001</th>\n      <td>8.59466</td>\n      <td>5.27870</td>\n      <td>7.09718</td>\n      <td>4.45581</td>\n      <td>3.71216</td>\n      <td>0.598385</td>\n      <td>1.264380</td>\n      <td>-0.631795</td>\n      <td>2.447480</td>\n      <td>0.598235</td>\n      <td>1.264040</td>\n    </tr>\n    <tr>\n      <th>25002</th>\n      <td>22.63070</td>\n      <td>8.01042</td>\n      <td>27.69420</td>\n      <td>7.59714</td>\n      <td>5.36723</td>\n      <td>-0.328096</td>\n      <td>2.324520</td>\n      <td>-2.621600</td>\n      <td>-0.978774</td>\n      <td>-0.328065</td>\n      <td>2.324330</td>\n    </tr>\n    <tr>\n      <th>25003</th>\n      <td>12.34510</td>\n      <td>8.01042</td>\n      <td>5.55988</td>\n      <td>7.59714</td>\n      <td>5.32962</td>\n      <td>-0.328096</td>\n      <td>-0.292268</td>\n      <td>-2.621600</td>\n      <td>0.039000</td>\n      <td>-0.328065</td>\n      <td>-0.292212</td>\n    </tr>\n    <tr>\n      <th>25004</th>\n      <td>9.41510</td>\n      <td>8.01042</td>\n      <td>3.98217</td>\n      <td>7.59714</td>\n      <td>3.74132</td>\n      <td>-0.328096</td>\n      <td>-0.355897</td>\n      <td>-2.621600</td>\n      <td>1.475980</td>\n      <td>-0.328065</td>\n      <td>-0.355761</td>\n    </tr>\n  </tbody>\n</table>\n</div>"
     },
     "execution_count": 7,
     "metadata": {},
     "output_type": "execute_result"
    }
   ],
   "source": [
    "#os.chdir(os.path.dirname(BD_ML_Training.ipynb))\n",
    "#os.chdir('../') # Get out of current folder\n",
    "\n",
    "#os.chdir(os.path.abspath(\"C:\\\\Users\\\\Bryan\\\\PycharmProjects\\\\comp_phys_2023\\\\Data\")) # Don't hardcode\n",
    "os.chdir(os.path.abspath(\"/Users/bryandinh/PycharmProjects/comp_phys_2023/Data\")) # Dont hardcode\n",
    "#/Users/bryandinh/PycharmProjects/comp_phys_2023/Data/trainDataset2.csv\n",
    "cwd=os.getcwd()\n",
    "print(cwd)\n",
    "train2=pd.read_csv(cwd+\"/trainDataset2.csv\",index_col=0)\n",
    "test=pd.read_csv(cwd+\"/FinalDataset.csv\",index_col=0)\n",
    "train2.head()"
   ]
  },
  {
   "cell_type": "markdown",
   "id": "87c74b8dbc0409c6",
   "metadata": {
    "collapsed": false
   },
   "source": [
    "Normalizing the data"
   ]
  },
  {
   "cell_type": "code",
   "execution_count": 8,
   "id": "d2e0d9368c143748",
   "metadata": {
    "collapsed": false,
    "ExecuteTime": {
     "end_time": "2023-11-26T04:43:11.765840Z",
     "start_time": "2023-11-26T04:43:11.422126Z"
    }
   },
   "outputs": [],
   "source": [
    "# Separate Target and Predictor Variables\n",
    "TargetVariable=['Pair Mass']\n",
    "Predictors=['Pair Mass','Muon 1 Energy','Muon 2 Energy',\n",
    "            'Muon 1 pT','Muon 2 pT','Muon 1 Eta','Muon 2 Eta','Muon 1 Phi','Muon 2 Phi','Muon 1 Rapidity','Muon 2 Rapidity']\n",
    "\n",
    "X=train2[Predictors].values\n",
    "Y=train2[TargetVariable].values\n",
    "\n",
    "X_test=test[Predictors].values\n",
    "Y_test=test[TargetVariable].values\n",
    "### Standardization of data ###\n",
    "from sklearn.preprocessing import StandardScaler\n",
    "PredictorScaler=StandardScaler()\n",
    "TargetVarScaler=StandardScaler()\n",
    "\n",
    "# Storing the fit object for later reference\n",
    "PredictorScalerFit=PredictorScaler.fit(X)\n",
    "TargetVarScalerFit=TargetVarScaler.fit(Y)\n",
    "\n",
    "\n",
    "# Generating the standardized values of X and y\n",
    "X=PredictorScalerFit.transform(X)\n",
    "Y=TargetVarScalerFit.transform(Y)\n",
    "X_test=PredictorScalerFit.transform(X_test)\n",
    "Y_test=TargetVarScalerFit.transform(Y_test)"
   ]
  },
  {
   "cell_type": "markdown",
   "source": [
    "# Training a Model and Fine-Tuning Hyperparameters\n",
    "With the data now set to go, we can begin training the model. This requires selecting a batch size and an epoch number.\n",
    "+ Batch Size: Number of samples processed before model is updated\n",
    "+ Epoch Number: Number of times the dataset is looked over during training\n",
    "\n",
    "Adjusting these parameters is important to prevent over and under fitting which will affect prediction accuracy.\n"
   ],
   "metadata": {
    "collapsed": false
   },
   "id": "46d8fedfc439337e"
  },
  {
   "cell_type": "code",
   "execution_count": 9,
   "id": "63ec9b14ec22a432",
   "metadata": {
    "collapsed": false,
    "ExecuteTime": {
     "end_time": "2023-11-26T04:43:32.710487Z",
     "start_time": "2023-11-26T04:43:14.986375Z"
    }
   },
   "outputs": [
    {
     "name": "stdout",
     "output_type": "stream",
     "text": [
      "Epoch 1/50\n",
      "1250/1250 [==============================] - 0s 280us/step - loss: 0.3662\n",
      "Epoch 2/50\n",
      "1250/1250 [==============================] - 0s 274us/step - loss: 0.1333\n",
      "Epoch 3/50\n",
      "1250/1250 [==============================] - 0s 272us/step - loss: 0.0882\n",
      "Epoch 4/50\n",
      "1250/1250 [==============================] - 0s 363us/step - loss: 0.0632\n",
      "Epoch 5/50\n",
      "1250/1250 [==============================] - 0s 269us/step - loss: 0.0485\n",
      "Epoch 6/50\n",
      "1250/1250 [==============================] - 0s 269us/step - loss: 0.0387\n",
      "Epoch 7/50\n",
      "1250/1250 [==============================] - 0s 270us/step - loss: 0.0318\n",
      "Epoch 8/50\n",
      "1250/1250 [==============================] - 0s 277us/step - loss: 0.0268\n",
      "Epoch 9/50\n",
      "1250/1250 [==============================] - 0s 272us/step - loss: 0.0235\n",
      "Epoch 10/50\n",
      "1250/1250 [==============================] - 0s 272us/step - loss: 0.0196\n",
      "Epoch 11/50\n",
      "1250/1250 [==============================] - 0s 292us/step - loss: 0.0170\n",
      "Epoch 12/50\n",
      "1250/1250 [==============================] - 0s 277us/step - loss: 0.0150\n",
      "Epoch 13/50\n",
      "1250/1250 [==============================] - 0s 287us/step - loss: 0.0133\n",
      "Epoch 14/50\n",
      "1250/1250 [==============================] - 0s 281us/step - loss: 0.0116\n",
      "Epoch 15/50\n",
      "1250/1250 [==============================] - 0s 276us/step - loss: 0.0105\n",
      "Epoch 16/50\n",
      "1250/1250 [==============================] - 0s 275us/step - loss: 0.0094\n",
      "Epoch 17/50\n",
      "1250/1250 [==============================] - 0s 269us/step - loss: 0.0092\n",
      "Epoch 18/50\n",
      "1250/1250 [==============================] - 0s 289us/step - loss: 0.0076\n",
      "Epoch 19/50\n",
      "1250/1250 [==============================] - 0s 272us/step - loss: 0.0068\n",
      "Epoch 20/50\n",
      "1250/1250 [==============================] - 0s 268us/step - loss: 0.0066\n",
      "Epoch 21/50\n",
      "1250/1250 [==============================] - 0s 273us/step - loss: 0.0056\n",
      "Epoch 22/50\n",
      "1250/1250 [==============================] - 0s 274us/step - loss: 0.0054\n",
      "Epoch 23/50\n",
      "1250/1250 [==============================] - 0s 271us/step - loss: 0.0045\n",
      "Epoch 24/50\n",
      "1250/1250 [==============================] - 0s 275us/step - loss: 0.0041\n",
      "Epoch 25/50\n",
      "1250/1250 [==============================] - 0s 270us/step - loss: 0.0042\n",
      "Epoch 26/50\n",
      "1250/1250 [==============================] - 0s 277us/step - loss: 0.0044\n",
      "Epoch 27/50\n",
      "1250/1250 [==============================] - 0s 273us/step - loss: 0.0031\n",
      "Epoch 28/50\n",
      "1250/1250 [==============================] - 0s 273us/step - loss: 0.0033\n",
      "Epoch 29/50\n",
      "1250/1250 [==============================] - 0s 280us/step - loss: 0.0029\n",
      "Epoch 30/50\n",
      "1250/1250 [==============================] - 0s 293us/step - loss: 0.0027\n",
      "Epoch 31/50\n",
      "1250/1250 [==============================] - 0s 271us/step - loss: 0.0027\n",
      "Epoch 32/50\n",
      "1250/1250 [==============================] - 0s 276us/step - loss: 0.0024\n",
      "Epoch 33/50\n",
      "1250/1250 [==============================] - 0s 273us/step - loss: 0.0033\n",
      "Epoch 34/50\n",
      "1250/1250 [==============================] - 0s 272us/step - loss: 0.0017\n",
      "Epoch 35/50\n",
      "1250/1250 [==============================] - 0s 297us/step - loss: 0.0022\n",
      "Epoch 36/50\n",
      "1250/1250 [==============================] - 0s 273us/step - loss: 0.0029\n",
      "Epoch 37/50\n",
      "1250/1250 [==============================] - 0s 270us/step - loss: 0.0014\n",
      "Epoch 38/50\n",
      "1250/1250 [==============================] - 0s 269us/step - loss: 0.0023\n",
      "Epoch 39/50\n",
      "1250/1250 [==============================] - 0s 274us/step - loss: 0.0015\n",
      "Epoch 40/50\n",
      "1250/1250 [==============================] - 0s 294us/step - loss: 0.0016\n",
      "Epoch 41/50\n",
      "1250/1250 [==============================] - 0s 284us/step - loss: 0.0020\n",
      "Epoch 42/50\n",
      "1250/1250 [==============================] - 0s 277us/step - loss: 0.0012\n",
      "Epoch 43/50\n",
      "1250/1250 [==============================] - 0s 293us/step - loss: 0.0021\n",
      "Epoch 44/50\n",
      "1250/1250 [==============================] - 0s 288us/step - loss: 0.0018\n",
      "Epoch 45/50\n",
      "1250/1250 [==============================] - 0s 276us/step - loss: 0.0013\n",
      "Epoch 46/50\n",
      "1250/1250 [==============================] - 0s 269us/step - loss: 0.0013\n",
      "Epoch 47/50\n",
      "1250/1250 [==============================] - 0s 270us/step - loss: 0.0016\n",
      "Epoch 48/50\n",
      "1250/1250 [==============================] - 0s 282us/step - loss: 0.0016\n",
      "Epoch 49/50\n",
      "1250/1250 [==============================] - 0s 287us/step - loss: 0.0014\n",
      "Epoch 50/50\n",
      "1250/1250 [==============================] - 0s 291us/step - loss: 0.0015\n"
     ]
    },
    {
     "data": {
      "text/plain": "<keras.src.callbacks.History at 0x2975a7d50>"
     },
     "execution_count": 9,
     "metadata": {},
     "output_type": "execute_result"
    }
   ],
   "source": [
    "from keras.models import Sequential\n",
    "from keras.layers import Dense\n",
    "\n",
    "# Create ANN Model\n",
    "model=Sequential()\n",
    "\n",
    "# Defining the Input layer and FIRST hidden layer, both are same!\n",
    "model.add(Dense(units=5, input_dim=11, kernel_initializer='normal', activation='relu'))\n",
    "\n",
    "# Defining the Second layer of the model\n",
    "# after the first layer we don't have to specify input_dim as keras configure it automatically\n",
    "model.add(Dense(units=5, kernel_initializer='normal', activation='tanh'))\n",
    "\n",
    "# The output neuron is a single fully connected node \n",
    "# Since we will be predicting a single number\n",
    "model.add(Dense(1, kernel_initializer='normal'))\n",
    "          \n",
    "# Compiling the model\n",
    "model.compile(loss='mean_squared_error', optimizer='adam')\n",
    "\n",
    "# Fitting the ANN to the Training set\n",
    "model.fit(X, Y ,batch_size = 20, epochs = 50, verbose=1)"
   ]
  },
  {
   "cell_type": "code",
   "execution_count": 10,
   "id": "13f36ddeb313811f",
   "metadata": {
    "collapsed": false,
    "ExecuteTime": {
     "end_time": "2023-11-26T04:54:15.128733Z",
     "start_time": "2023-11-26T04:46:14.234607Z"
    }
   },
   "outputs": [
    {
     "name": "stdout",
     "output_type": "stream",
     "text": [
      "4343/4343 [==============================] - 1s 229us/step\n",
      "1 Parameters: batch_size: 1 - epochs: 10 Accuracy: 101.27097401160299\n",
      "4343/4343 [==============================] - 1s 230us/step\n",
      "2 Parameters: batch_size: 1 - epochs: 20 Accuracy: 101.04697106327096\n",
      "4343/4343 [==============================] - 1s 228us/step\n",
      "3 Parameters: batch_size: 1 - epochs: 40 Accuracy: 99.97852900213236\n",
      "4343/4343 [==============================] - 1s 228us/step\n",
      "4 Parameters: batch_size: 10 - epochs: 10 Accuracy: 100.06287440861576\n",
      "4343/4343 [==============================] - 1s 246us/step\n",
      "5 Parameters: batch_size: 10 - epochs: 20 Accuracy: 102.27110990568005\n",
      "4343/4343 [==============================] - 1s 227us/step\n",
      "6 Parameters: batch_size: 10 - epochs: 40 Accuracy: 100.33874119898908\n",
      "4343/4343 [==============================] - 1s 229us/step\n",
      "7 Parameters: batch_size: 20 - epochs: 10 Accuracy: 100.13424699745892\n",
      "4343/4343 [==============================] - 1s 231us/step\n",
      "8 Parameters: batch_size: 20 - epochs: 20 Accuracy: 100.11269904807939\n",
      "4343/4343 [==============================] - 1s 233us/step\n",
      "9 Parameters: batch_size: 20 - epochs: 40 Accuracy: 100.05388230117009\n"
     ]
    }
   ],
   "source": [
    "# Defining a function to find the best parameters for ANN\n",
    "def FunctionFindBestParams(X_train, y_train, X_test, y_test):\n",
    "    \n",
    "    # Defining the list of hyperparameters to try\n",
    "    batch_size_list = [1, 10, 20]\n",
    "    epoch_list = [10, 20, 40]\n",
    "    \n",
    "    import pandas as pd\n",
    "    SearchResultsDataList = []  # List to store data frames\n",
    "    \n",
    "    # Initializing the trials\n",
    "    TrialNumber = 0\n",
    "    for batch_size_trial in batch_size_list:\n",
    "        for epochs_trial in epoch_list:\n",
    "            TrialNumber += 1\n",
    "            # create ANN model\n",
    "            model = Sequential()\n",
    "            # Defining the first layer of the model\n",
    "            model.add(Dense(units=5, input_dim=X_train.shape[1], kernel_initializer='normal', activation='relu'))\n",
    "\n",
    "            # Defining the Second layer of the model\n",
    "            model.add(Dense(units=5, kernel_initializer='normal', activation='relu'))\n",
    "\n",
    "            # The output neuron is a single fully connected node \n",
    "            # Since we will be predicting a single number\n",
    "            model.add(Dense(1, kernel_initializer='normal'))\n",
    "\n",
    "            # Compiling the model\n",
    "            model.compile(loss='mean_squared_error', optimizer='adam')\n",
    "\n",
    "            # Fitting the ANN to the Training set\n",
    "            model.fit(X_train, y_train, batch_size=batch_size_trial, epochs=epochs_trial, verbose=0)\n",
    "\n",
    "            MAPE = np.mean(100 * (np.abs(y_test - model.predict(X_test)) / y_test))\n",
    "            \n",
    "            # printing the results of the current iteration\n",
    "            print(TrialNumber, 'Parameters:', 'batch_size:', batch_size_trial, '-', 'epochs:', epochs_trial, 'Accuracy:', 100-MAPE)\n",
    "            \n",
    "            # Append the current iteration's results to the list\n",
    "            SearchResultsDataList.append(pd.DataFrame(data=[[TrialNumber, str(batch_size_trial)+'-'+str(epochs_trial), 100-MAPE]], columns=['TrialNumber', 'Parameters', 'Accuracy']))\n",
    "\n",
    "    # Concatenate all the data frames in the list\n",
    "    SearchResultsData = pd.concat(SearchResultsDataList, ignore_index=True)\n",
    "    \n",
    "    return SearchResultsData\n",
    "\n",
    "# Calling the function\n",
    "ResultsData = FunctionFindBestParams(X, Y, X_test, Y_test)\n"
   ]
  },
  {
   "cell_type": "code",
   "execution_count": 11,
   "id": "89aa90441c255c11",
   "metadata": {
    "collapsed": false,
    "ExecuteTime": {
     "end_time": "2023-11-26T04:54:34.398909Z",
     "start_time": "2023-11-26T04:54:33.963216Z"
    }
   },
   "outputs": [
    {
     "data": {
      "text/plain": "<Axes: xlabel='Parameters'>"
     },
     "execution_count": 11,
     "metadata": {},
     "output_type": "execute_result"
    },
    {
     "data": {
      "text/plain": "<Figure size 1500x400 with 1 Axes>",
      "image/png": "[encoded data removed]"
     },
     "metadata": {},
     "output_type": "display_data"
    }
   ],
   "source": [
    "%matplotlib inline\n",
    "ResultsData.plot(x='Parameters', y='Accuracy', figsize=(15,4), kind='line')"
   ]
  },
  {
   "cell_type": "code",
   "execution_count": 12,
   "id": "e2f2db2bf888da0f",
   "metadata": {
    "collapsed": false,
    "ExecuteTime": {
     "end_time": "2023-11-26T04:55:04.038462Z",
     "start_time": "2023-11-26T04:54:48.874136Z"
    }
   },
   "outputs": [
    {
     "name": "stdout",
     "output_type": "stream",
     "text": [
      "Epoch 1/20\n",
      "2500/2500 [==============================] - 1s 272us/step - loss: 0.3140\n",
      "Epoch 2/20\n",
      "2500/2500 [==============================] - 1s 267us/step - loss: 0.0979\n",
      "Epoch 3/20\n",
      "2500/2500 [==============================] - 1s 268us/step - loss: 0.0608\n",
      "Epoch 4/20\n",
      "2500/2500 [==============================] - 1s 267us/step - loss: 0.0431\n",
      "Epoch 5/20\n",
      "2500/2500 [==============================] - 1s 308us/step - loss: 0.0323\n",
      "Epoch 6/20\n",
      "2500/2500 [==============================] - 1s 277us/step - loss: 0.0257\n",
      "Epoch 7/20\n",
      "2500/2500 [==============================] - 1s 272us/step - loss: 0.0203\n",
      "Epoch 8/20\n",
      "2500/2500 [==============================] - 1s 271us/step - loss: 0.0168\n",
      "Epoch 9/20\n",
      "2500/2500 [==============================] - 1s 270us/step - loss: 0.0142\n",
      "Epoch 10/20\n",
      "2500/2500 [==============================] - 1s 270us/step - loss: 0.0122\n",
      "Epoch 11/20\n",
      "2500/2500 [==============================] - 1s 270us/step - loss: 0.0108\n",
      "Epoch 12/20\n",
      "2500/2500 [==============================] - 1s 269us/step - loss: 0.0166\n",
      "Epoch 13/20\n",
      "2500/2500 [==============================] - 1s 268us/step - loss: 0.0084\n",
      "Epoch 14/20\n",
      "2500/2500 [==============================] - 1s 274us/step - loss: 0.0073\n",
      "Epoch 15/20\n",
      "2500/2500 [==============================] - 1s 269us/step - loss: 0.0063\n",
      "Epoch 16/20\n",
      "2500/2500 [==============================] - 1s 269us/step - loss: 0.0068\n",
      "Epoch 17/20\n",
      "2500/2500 [==============================] - 1s 272us/step - loss: 0.0052\n",
      "Epoch 18/20\n",
      "2500/2500 [==============================] - 1s 269us/step - loss: 0.0077\n",
      "Epoch 19/20\n",
      "2500/2500 [==============================] - 1s 268us/step - loss: 0.0042\n",
      "Epoch 20/20\n",
      "2500/2500 [==============================] - 1s 269us/step - loss: 0.0036\n",
      "4343/4343 [==============================] - 1s 228us/step\n"
     ]
    },
    {
     "data": {
      "text/plain": "   Pair Mass  Muon 1 Energy  Muon 2 Energy  Muon 1 pT  Muon 2 pT  Muon 1 Eta  \\\n0    9.09624       22.64590        4.98755   22.61070    3.66542    0.055613   \n1   18.46730       22.64590       11.28230   22.61070    2.56332    0.055613   \n2    4.38833       13.23310        4.98755   10.80530    3.66542   -0.658341   \n3   20.21160       13.23310       11.28230   10.80530    2.56332   -0.658341   \n4   12.49080        4.98755       11.28230    3.66542    2.56332   -0.825368   \n\n   Muon 2 Eta  Muon 1 Phi  Muon 2 Phi  Muon 1 Rapidity  Muon 2 Rapidity  \\\n0   -0.825368   -1.166540    -1.57729         0.055613        -0.825087   \n1    2.161880   -1.166540    -2.14436         0.055613         2.161050   \n2   -0.825368   -0.888959    -1.57729        -0.658314        -0.825087   \n3    2.161880   -0.888959    -2.14436        -0.658314         2.161050   \n4    2.161880   -1.577290    -2.14436        -0.825087         2.161050   \n\n   PredictedPairMass  \n0           9.110998  \n1          18.453421  \n2           4.464253  \n3          20.188646  \n4          12.495661  ",
      "text/html": "<div>\n<style scoped>\n    .dataframe tbody tr th:only-of-type {\n        vertical-align: middle;\n    }\n\n    .dataframe tbody tr th {\n        vertical-align: top;\n    }\n\n    .dataframe thead th {\n        text-align: right;\n    }\n</style>\n<table border=\"1\" class=\"dataframe\">\n  <thead>\n    <tr style=\"text-align: right;\">\n      <th></th>\n      <th>Pair Mass</th>\n      <th>Muon 1 Energy</th>\n      <th>Muon 2 Energy</th>\n      <th>Muon 1 pT</th>\n      <th>Muon 2 pT</th>\n      <th>Muon 1 Eta</th>\n      <th>Muon 2 Eta</th>\n      <th>Muon 1 Phi</th>\n      <th>Muon 2 Phi</th>\n      <th>Muon 1 Rapidity</th>\n      <th>Muon 2 Rapidity</th>\n      <th>PredictedPairMass</th>\n    </tr>\n  </thead>\n  <tbody>\n    <tr>\n      <th>0</th>\n      <td>9.09624</td>\n      <td>22.64590</td>\n      <td>4.98755</td>\n      <td>22.61070</td>\n      <td>3.66542</td>\n      <td>0.055613</td>\n      <td>-0.825368</td>\n      <td>-1.166540</td>\n      <td>-1.57729</td>\n      <td>0.055613</td>\n      <td>-0.825087</td>\n      <td>9.110998</td>\n    </tr>\n    <tr>\n      <th>1</th>\n      <td>18.46730</td>\n      <td>22.64590</td>\n      <td>11.28230</td>\n      <td>22.61070</td>\n      <td>2.56332</td>\n      <td>0.055613</td>\n      <td>2.161880</td>\n      <td>-1.166540</td>\n      <td>-2.14436</td>\n      <td>0.055613</td>\n      <td>2.161050</td>\n      <td>18.453421</td>\n    </tr>\n    <tr>\n      <th>2</th>\n      <td>4.38833</td>\n      <td>13.23310</td>\n      <td>4.98755</td>\n      <td>10.80530</td>\n      <td>3.66542</td>\n      <td>-0.658341</td>\n      <td>-0.825368</td>\n      <td>-0.888959</td>\n      <td>-1.57729</td>\n      <td>-0.658314</td>\n      <td>-0.825087</td>\n      <td>4.464253</td>\n    </tr>\n    <tr>\n      <th>3</th>\n      <td>20.21160</td>\n      <td>13.23310</td>\n      <td>11.28230</td>\n      <td>10.80530</td>\n      <td>2.56332</td>\n      <td>-0.658341</td>\n      <td>2.161880</td>\n      <td>-0.888959</td>\n      <td>-2.14436</td>\n      <td>-0.658314</td>\n      <td>2.161050</td>\n      <td>20.188646</td>\n    </tr>\n    <tr>\n      <th>4</th>\n      <td>12.49080</td>\n      <td>4.98755</td>\n      <td>11.28230</td>\n      <td>3.66542</td>\n      <td>2.56332</td>\n      <td>-0.825368</td>\n      <td>2.161880</td>\n      <td>-1.577290</td>\n      <td>-2.14436</td>\n      <td>-0.825087</td>\n      <td>2.161050</td>\n      <td>12.495661</td>\n    </tr>\n  </tbody>\n</table>\n</div>"
     },
     "execution_count": 12,
     "metadata": {},
     "output_type": "execute_result"
    }
   ],
   "source": [
    "# Fitting the ANN to the Training set\n",
    "# 20,40\n",
    "#model.fit(X, Y ,batch_size = 20, epochs = 40, verbose=0)\n",
    "# Create ANN Model\n",
    "model=Sequential()\n",
    "\n",
    "# Defining the Input layer and FIRST hidden layer, both are same!\n",
    "model.add(Dense(units=5, input_dim=11, kernel_initializer='normal', activation='relu'))\n",
    "\n",
    "# Defining the Second layer of the model\n",
    "# after the first layer we don't have to specify input_dim as keras configure it automatically\n",
    "model.add(Dense(units=5, kernel_initializer='normal', activation='tanh'))\n",
    "\n",
    "# The output neuron is a single fully connected node \n",
    "# Since we will be predicting a single number\n",
    "model.add(Dense(1, kernel_initializer='normal'))\n",
    "          \n",
    "# Compiling the model\n",
    "model.compile(loss='mean_squared_error', optimizer='adam')\n",
    "\n",
    "# Fitting the ANN to the Training set\n",
    "model.fit(X, Y ,batch_size = 10, epochs = 20, verbose=1)\n",
    "\n",
    "# Generating Predictions on testing data\n",
    "Predictions=model.predict(X_test)\n",
    "\n",
    "# Scaling the predicted mass data back to original mass scale\n",
    "Predictions=TargetVarScalerFit.inverse_transform(Predictions)\n",
    "\n",
    "# Scaling the y_test mass data back to original mass scale\n",
    "y_test_orig=TargetVarScalerFit.inverse_transform(Y_test)\n",
    "\n",
    "# Scaling the test data back to original scale\n",
    "Test_Data=PredictorScalerFit.inverse_transform(X_test)\n",
    "\n",
    "TestingData=pd.DataFrame(data=Test_Data, columns=Predictors)\n",
    "TestingData['Pair Mass']=y_test_orig\n",
    "TestingData['PredictedPairMass']=Predictions\n",
    "TestingData.head()"
   ]
  },
  {
   "cell_type": "code",
   "execution_count": 14,
   "id": "24ce4210338bb95a",
   "metadata": {
    "collapsed": false,
    "ExecuteTime": {
     "end_time": "2023-11-26T04:55:58.640300Z",
     "start_time": "2023-11-26T04:55:58.632104Z"
    }
   },
   "outputs": [
    {
     "name": "stdout",
     "output_type": "stream",
     "text": [
      "The average percent difference between the predicted and actual pair mass is: -0.21440843542712798 %\n"
     ]
    }
   ],
   "source": [
    "# Evaluating how well our model predicts the pair mass\n",
    "Difference=100*(TestingData[\"Pair Mass\"]-TestingData[\"PredictedPairMass\"])/np.average(TestingData[\"Pair Mass\"])\n",
    "print(\"The average percent difference between the predicted and actual pair mass is: \"+str(np.average(Difference))+\" %\")\n"
   ]
  },
  {
   "cell_type": "code",
   "execution_count": 15,
   "outputs": [],
   "source": [
    "model.save(\"/Users/bryandinh/PycharmProjects/comp_phys_2023/Model Training/dataset_2.keras\")"
   ],
   "metadata": {
    "collapsed": false,
    "ExecuteTime": {
     "end_time": "2023-11-26T04:56:03.881283Z",
     "start_time": "2023-11-26T04:56:03.867061Z"
    }
   },
   "id": "cdde262215924742"
  },
  {
   "cell_type": "code",
   "execution_count": null,
   "outputs": [],
   "source": [],
   "metadata": {
    "collapsed": false
   },
   "id": "2d8d714961acf312"
  },
  {
   "cell_type": "code",
   "execution_count": null,
   "outputs": [],
   "source": [],
   "metadata": {
    "collapsed": false
   },
   "id": "2dec8b0d4012abdc"
  },
  {
   "cell_type": "code",
   "execution_count": null,
   "outputs": [],
   "source": [],
   "metadata": {
    "collapsed": false
   },
   "id": "fdbdb5b44424bac5"
  },
  {
   "cell_type": "code",
   "execution_count": null,
   "outputs": [],
   "source": [],
   "metadata": {
    "collapsed": false
   },
   "id": "689fd0504c891196"
  },
  {
   "cell_type": "code",
   "execution_count": null,
   "id": "aa1c9d1056bc35c8",
   "metadata": {
    "ExecuteTime": {
     "start_time": "2023-11-21T22:15:12.724999400Z"
    },
    "collapsed": false,
    "is_executing": true
   },
   "outputs": [],
   "source": []
  },
  {
   "cell_type": "code",
   "execution_count": null,
   "id": "65da95446e4e732",
   "metadata": {
    "ExecuteTime": {
     "start_time": "2023-11-21T22:15:12.726993600Z"
    },
    "collapsed": false,
    "is_executing": true
   },
   "outputs": [],
   "source": []
  }
 ],
 "metadata": {
  "kernelspec": {
   "display_name": "Python 3",
   "language": "python",
   "name": "python3"
  },
  "language_info": {
   "codemirror_mode": {
    "name": "ipython",
    "version": 3
   },
   "file_extension": ".py",
   "mimetype": "text/x-python",
   "name": "python",
   "nbconvert_exporter": "python",
   "pygments_lexer": "ipython3",
   "version": "3.11.4"
  }
 },
 "nbformat": 4,
 "nbformat_minor": 5
}
