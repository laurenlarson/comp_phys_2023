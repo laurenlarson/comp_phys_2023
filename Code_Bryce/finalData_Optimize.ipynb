{
 "cells": [
  {
   "cell_type": "code",
   "execution_count": 1,
   "metadata": {},
   "outputs": [
    {
     "name": "stdout",
     "output_type": "stream",
     "text": [
      "WARNING:tensorflow:From c:\\Users\\19037\\Documents\\CPhys Tagging\\Cphys\\Lib\\site-packages\\keras\\src\\losses.py:2976: The name tf.losses.sparse_softmax_cross_entropy is deprecated. Please use tf.compat.v1.losses.sparse_softmax_cross_entropy instead.\n",
      "\n"
     ]
    }
   ],
   "source": [
    "import pandas as pd\n",
    "import numpy as np\n",
    "from keras.models import Sequential\n",
    "from keras.layers import Dense\n",
    "from sklearn.preprocessing import StandardScaler\n",
    "from sklearn.model_selection import train_test_split\n",
    "from sklearn.metrics import mean_absolute_percentage_error"
   ]
  },
  {
   "cell_type": "code",
   "execution_count": 2,
   "metadata": {},
   "outputs": [],
   "source": [
    "df = pd.read_csv('C:/Users/19037/Documents/CPhys Tagging/finalDataset.csv')"
   ]
  },
  {
   "cell_type": "code",
   "execution_count": 3,
   "metadata": {},
   "outputs": [],
   "source": [
    "TargetVar = ['Pair Mass']\n",
    "Predictors = ['Muon 1 Energy', 'Muon 2 Energy', 'Muon 1 pT', 'Muon 2 pT', 'Muon 1 Eta', 'Muon 2 Eta', 'Muon 1 Phi', 'Muon 2 Phi','Muon 1 Rapidity', 'Muon 2 Rapidity']\n",
    "x = df[Predictors].values\n",
    "y = df[TargetVar].values"
   ]
  },
  {
   "cell_type": "code",
   "execution_count": 4,
   "metadata": {},
   "outputs": [],
   "source": [
    "PredScaler = StandardScaler()\n",
    "TargetVarScaler =StandardScaler()"
   ]
  },
  {
   "cell_type": "code",
   "execution_count": 5,
   "metadata": {},
   "outputs": [],
   "source": [
    "PredScalerFit = PredScaler.fit(x)\n",
    "TargVarScalerFit = TargetVarScaler.fit(y)"
   ]
  },
  {
   "cell_type": "code",
   "execution_count": 6,
   "metadata": {},
   "outputs": [],
   "source": [
    "x = PredScalerFit.transform(x)\n",
    "y = TargVarScalerFit.transform(y)"
   ]
  },
  {
   "cell_type": "code",
   "execution_count": 7,
   "metadata": {},
   "outputs": [],
   "source": [
    "x_train, x_test, y_train, y_test = train_test_split(x, y, test_size=0.3, random_state=42)"
   ]
  },
  {
   "cell_type": "code",
   "execution_count": 8,
   "metadata": {},
   "outputs": [
    {
     "name": "stdout",
     "output_type": "stream",
     "text": [
      "WARNING:tensorflow:From c:\\Users\\19037\\Documents\\CPhys Tagging\\Cphys\\Lib\\site-packages\\keras\\src\\backend.py:873: The name tf.get_default_graph is deprecated. Please use tf.compat.v1.get_default_graph instead.\n",
      "\n",
      "WARNING:tensorflow:From c:\\Users\\19037\\Documents\\CPhys Tagging\\Cphys\\Lib\\site-packages\\keras\\src\\optimizers\\__init__.py:309: The name tf.train.Optimizer is deprecated. Please use tf.compat.v1.train.Optimizer instead.\n",
      "\n"
     ]
    }
   ],
   "source": [
    "model_f =  Sequential()\n",
    "model_f.add( Dense(units=12, input_dim=10, kernel_initializer='normal', activation='relu') )\n",
    "model_f.add( Dense(units=12, kernel_initializer='normal', activation='relu') )\n",
    "model_f.add( Dense(1, kernel_initializer='normal') )\n",
    "model_f.compile(loss='mean_squared_error', optimizer='adam')"
   ]
  },
  {
   "cell_type": "code",
   "execution_count": 22,
   "metadata": {},
   "outputs": [],
   "source": [
    "#create function to find best parameters\n",
    "def BestParam1(x_train,  y_train, x_test, y_test):\n",
    "    #define list of hyper parameters\n",
    "    batch_size = [5, 6, 7, 8, 9, 10]\n",
    "    epoch_size = [30, 40, 50]\n",
    "    neurons = [9, 10, 11, 12]\n",
    "    \n",
    "    results = pd.DataFrame(columns=['TrialNum', 'Param', 'Accuracy'])\n",
    "\n",
    "    #intialize trials\n",
    "    TrialNum = 0\n",
    "    for b in batch_size:\n",
    "        for e in epoch_size:\n",
    "            for n in neurons:\n",
    "                TrialNum += 1\n",
    "                model = Sequential()\n",
    "                model.add( Dense(units=n, input_dim=x_train.shape[1], kernel_initializer='normal', activation='relu') )\n",
    "                model.add( Dense(units=n, kernel_initializer='normal', activation='relu') )\n",
    "                model.add( Dense(1, kernel_initializer='normal'))\n",
    "                model.compile(loss='mean_squared_error', optimizer='adam')\n",
    "                model.fit(x_train, y_train, batch_size=b, epochs=e, verbose=0)\n",
    "\n",
    "                errPer = mean_absolute_percentage_error(y_test, model.predict(x_test))\n",
    "\n",
    "                print(TrialNum, 'Param:', 'batch_size:', b, ';', 'epoch:', e, ';', 'neurons:', n, 'Accuracy:', 100-errPer)\n",
    "                #print(100-errPer)\n",
    "                results2 = pd.DataFrame(data=[[TrialNum, str(b)+';'+str(e)+';'+str(n), 100-errPer]], columns=['TrialNum', 'Parameters', 'Accuracy'])\n",
    "\n",
    "    return(results2)"
   ]
  },
  {
   "cell_type": "code",
   "execution_count": 24,
   "metadata": {},
   "outputs": [],
   "source": [
    "def BestParam(x_train,  y_train, x_test, y_test):\n",
    "    #define list of hyper parameters\n",
    "    epoch_size = [30, 40, 50]\n",
    "    neurons = [10, 11, 12]\n",
    "    \n",
    "    results = pd.DataFrame(columns=['TrialNum', 'Param', 'Accuracy'])\n",
    "\n",
    "    #intialize trials\n",
    "    TrialNum = 0\n",
    "    for e in epoch_size:\n",
    "        for n in neurons:\n",
    "            TrialNum += 1\n",
    "            model = Sequential()\n",
    "            model.add( Dense(units=n, input_dim=x_train.shape[1], kernel_initializer='normal', activation='relu') )\n",
    "            model.add( Dense(units=n, kernel_initializer='normal', activation='relu') )\n",
    "            model.add( Dense(1, kernel_initializer='normal'))\n",
    "            model.compile(loss='mean_squared_error', optimizer='adam')\n",
    "            model.fit(x_train, y_train, batch_size=5, epochs=e, verbose=0)\n",
    "\n",
    "            errPer = mean_absolute_percentage_error(y_test, model.predict(x_test))\n",
    "\n",
    "            print(TrialNum, 'Param:', 'epoch:', e, ';', 'neurons:', n, 'Accuracy:', 100-errPer)\n",
    "            results2 = pd.DataFrame(data=[[TrialNum, str(e)+';'+str(n), 100-errPer]], columns=['TrialNm', 'Parameters', 'Accuracy'])\n",
    "\n",
    "    return(results2)"
   ]
  },
  {
   "cell_type": "code",
   "execution_count": 25,
   "metadata": {},
   "outputs": [
    {
     "name": "stdout",
     "output_type": "stream",
     "text": [
      "1303/1303 [==============================] - 3s 2ms/step\n",
      "1 Param: epoch: 30 ; neurons: 10 Accuracy: 99.006278542947\n",
      "1303/1303 [==============================] - 2s 2ms/step\n",
      "2 Param: epoch: 30 ; neurons: 11 Accuracy: 98.71171706658822\n",
      "1303/1303 [==============================] - 7s 5ms/step\n",
      "3 Param: epoch: 30 ; neurons: 12 Accuracy: 98.82932773441016\n",
      "1303/1303 [==============================] - 1s 929us/step\n",
      "4 Param: epoch: 40 ; neurons: 10 Accuracy: 98.92528705605855\n",
      "1303/1303 [==============================] - 2s 1ms/step\n",
      "5 Param: epoch: 40 ; neurons: 11 Accuracy: 99.06616007976747\n",
      "1303/1303 [==============================] - 1s 963us/step\n",
      "6 Param: epoch: 40 ; neurons: 12 Accuracy: 98.92602075167747\n",
      "1303/1303 [==============================] - 2s 1ms/step\n",
      "7 Param: epoch: 50 ; neurons: 10 Accuracy: 98.97850543999775\n",
      "1303/1303 [==============================] - 1s 938us/step\n",
      "8 Param: epoch: 50 ; neurons: 11 Accuracy: 98.96564721040916\n",
      "1303/1303 [==============================] - 1s 948us/step\n",
      "9 Param: epoch: 50 ; neurons: 12 Accuracy: 98.91580216668942\n"
     ]
    }
   ],
   "source": [
    "#resultData = BestParam1(x_train, y_train, x_test, y_test)\n",
    "resultData = BestParam(x_train, y_train, x_test, y_test)"
   ]
  },
  {
   "cell_type": "code",
   "execution_count": null,
   "metadata": {},
   "outputs": [],
   "source": []
  }
 ],
 "metadata": {
  "kernelspec": {
   "display_name": "Cphys",
   "language": "python",
   "name": "python3"
  },
  "language_info": {
   "codemirror_mode": {
    "name": "ipython",
    "version": 3
   },
   "file_extension": ".py",
   "mimetype": "text/x-python",
   "name": "python",
   "nbconvert_exporter": "python",
   "pygments_lexer": "ipython3",
   "version": "3.11.6"
  }
 },
 "nbformat": 4,
 "nbformat_minor": 2
}
