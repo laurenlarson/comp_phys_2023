import pandas as pd
import numpy as np
from keras.models import Sequential
from keras.layers import Dense
from sklearn.preprocessing import StandardScaler
from sklearn.model_selection import train_test_split
from sklearn.metrics import mean_absolute_percentage_error

## Importing Data

df = pd.read_csv('C:/Users/19037/Documents/CPhys Tagging/finalDataset.csv')

# Must select the predictor input values and the target values to utilize our model
TargetVar = ['Pair Mass'] 
Predictors = ['Muon 1 Energy', 'Muon 2 Energy', 'Muon 1 pT', 'Muon 2 pT', 'Muon 1 Eta', 'Muon 2 Eta', 'Muon 1 Phi', 'Muon 2 Phi','Muon 1 Rapidity', 'Muon 2 Rapidity']
x = df[Predictors].values
y = df[TargetVar].values

It is important to scale our data to fit the range of values that our learning algorithm will work off of. Values too large will cause our model to have difficulty converging from overshooting during the backpropogation stage.

PredScaler = StandardScaler()
TargetVarScaler =StandardScaler()

PredScalerFit = PredScaler.fit(x)
TargVarScalerFit = TargetVarScaler.fit(y)

x = PredScalerFit.transform(x)
y = TargVarScalerFit.transform(y)

x_train, x_test, y_train, y_test = train_test_split(x, y, test_size=0.3, random_state=42) # Formatting data to input into model

model_f =  Sequential() # Generatign a sequential gradient descent model
model_f.add( Dense(units=12, input_dim=10, kernel_initializer='normal', activation='relu') ) # Initializing our first layer. This requires us to specify our input dimensions
model_f.add( Dense(units=12, kernel_initializer='normal', activation='relu') ) # Adding hidden layers
model_f.add( Dense(1, kernel_initializer='normal') ) # Defining our output layer
model_f.compile(loss='mean_squared_error', optimizer='adam') # Defining our loss function

# Create function to find best parameters
def BestParam1(x_train,  y_train, x_test, y_test):
    # Define list of hyper parameters
    batch_size = [5, 6, 7, 8, 9, 10]
    epoch_size = [30, 40, 50]
    neurons = [9, 10, 11, 12]
    
    results = pd.DataFrame(columns=['TrialNum', 'Param', 'Accuracy'])

    #intialize trials
    TrialNum = 0
    for b in batch_size:
        for e in epoch_size:
            for n in neurons:
                TrialNum += 1
                model = Sequential()
                model.add( Dense(units=n, input_dim=x_train.shape[1], kernel_initializer='normal', activation='relu') )
                model.add( Dense(units=n, kernel_initializer='normal', activation='relu') )
                model.add( Dense(1, kernel_initializer='normal'))
                model.compile(loss='mean_squared_error', optimizer='adam')
                model.fit(x_train, y_train, batch_size=b, epochs=e, verbose=0)

                errPer = mean_absolute_percentage_error(y_test, model.predict(x_test))

                print(TrialNum, 'Param:', 'batch_size:', b, ';', 'epoch:', e, ';', 'neurons:', n, 'Accuracy:', 100-errPer)
                #print(100-errPer)
                results2 = pd.DataFrame(data=[[TrialNum, str(b)+';'+str(e)+';'+str(n), 100-errPer]], columns=['TrialNum', 'Parameters', 'Accuracy'])

    return(results2)

def BestParam(x_train,  y_train, x_test, y_test):
    #define list of hyper parameters
    epoch_size = [30, 40, 50]
    neurons = [10, 11, 12]
    
    results = pd.DataFrame(columns=['TrialNum', 'Param', 'Accuracy'])

    #intialize trials
    TrialNum = 0
    for e in epoch_size:
        for n in neurons:
            TrialNum += 1
            model = Sequential()
            model.add( Dense(units=n, input_dim=x_train.shape[1], kernel_initializer='normal', activation='relu') )
            model.add( Dense(units=n, kernel_initializer='normal', activation='relu') )
            model.add( Dense(1, kernel_initializer='normal'))
            model.compile(loss='mean_squared_error', optimizer='adam')
            model.fit(x_train, y_train, batch_size=5, epochs=e, verbose=0)

            errPer = mean_absolute_percentage_error(y_test, model.predict(x_test))

            print(TrialNum, 'Param:', 'epoch:', e, ';', 'neurons:', n, 'Accuracy:', 100-errPer)
            results2 = pd.DataFrame(data=[[TrialNum, str(e)+';'+str(n), 100-errPer]], columns=['TrialNm', 'Parameters', 'Accuracy'])

    return(results2)

#resultData = BestParam1(x_train, y_train, x_test, y_test)
resultData = BestParam(x_train, y_train, x_test, y_test)

