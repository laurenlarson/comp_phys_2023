{
 "cells": [
  {
   "cell_type": "code",
   "execution_count": 2,
   "metadata": {},
   "outputs": [],
   "source": [
    "import pandas as pd\n",
    "import numpy as np"
   ]
  },
  {
   "cell_type": "code",
   "execution_count": 3,
   "metadata": {},
   "outputs": [],
   "source": [
    "from keras.models import Sequential\n",
    "from keras.layers import Dense"
   ]
  },
  {
   "cell_type": "code",
   "execution_count": 5,
   "metadata": {},
   "outputs": [],
   "source": [
    "d4 = pd.read_csv('C:/Users/19037/Documents/CPhys Tagging/trainDataset4.csv')"
   ]
  },
  {
   "cell_type": "code",
   "execution_count": 6,
   "metadata": {},
   "outputs": [],
   "source": [
    "TargetVar = ['Pair Mass']\n",
    "Predictors = ['Muon 1 Energy', 'Muon 2 Energy', 'Muon 1 pT', 'Muon 2 pT', 'Muon 1 Eta', 'Muon 2 Eta', 'Muon 1 Phi', 'Muon 2 Phi','Muon 1 Rapidity', 'Muon 2 Rapidity']"
   ]
  },
  {
   "cell_type": "code",
   "execution_count": 7,
   "metadata": {},
   "outputs": [],
   "source": [
    "X = d4[Predictors].values\n",
    "Y = d4[TargetVar].values"
   ]
  },
  {
   "cell_type": "code",
   "execution_count": 10,
   "metadata": {},
   "outputs": [],
   "source": [
    "#Standarize data\n",
    "from sklearn.preprocessing import StandardScaler\n",
    "PredScaler = StandardScaler()\n",
    "TargetVarScaler =StandardScaler()"
   ]
  },
  {
   "cell_type": "code",
   "execution_count": 11,
   "metadata": {},
   "outputs": [],
   "source": [
    "#store fitting object\n",
    "PredScalerFit = PredScaler.fit(X)\n",
    "TargVarScalerFit = TargetVarScaler.fit(Y)"
   ]
  },
  {
   "cell_type": "code",
   "execution_count": 12,
   "metadata": {},
   "outputs": [],
   "source": [
    "#generate standarized values\n",
    "X = PredScalerFit.transform(X)\n",
    "Y = TargVarScalerFit.transform(Y)"
   ]
  },
  {
   "cell_type": "code",
   "execution_count": 14,
   "metadata": {},
   "outputs": [],
   "source": [
    "from sklearn.model_selection import train_test_split\n",
    "x_train, x_test, y_train, y_test = train_test_split(X, Y, test_size=0.3, random_state=42)"
   ]
  },
  {
   "cell_type": "code",
   "execution_count": 4,
   "metadata": {},
   "outputs": [
    {
     "name": "stdout",
     "output_type": "stream",
     "text": [
      "WARNING:tensorflow:From c:\\Users\\19037\\Documents\\CPhys Tagging\\Cphys\\Lib\\site-packages\\keras\\src\\backend.py:873: The name tf.get_default_graph is deprecated. Please use tf.compat.v1.get_default_graph instead.\n",
      "\n"
     ]
    }
   ],
   "source": [
    "model =  Sequential()"
   ]
  },
  {
   "cell_type": "code",
   "execution_count": 15,
   "metadata": {},
   "outputs": [],
   "source": [
    "#define input layer\n",
    "model.add( Dense(units=7, input_dim=10, kernel_initializer='normal', activation='relu') )"
   ]
  },
  {
   "cell_type": "code",
   "execution_count": 17,
   "metadata": {},
   "outputs": [],
   "source": [
    "#define second layer\n",
    "model.add( Dense(units=5, kernel_initializer='normal', activation='relu') )"
   ]
  },
  {
   "cell_type": "code",
   "execution_count": 18,
   "metadata": {},
   "outputs": [],
   "source": [
    "#ouput layer/neuron\n",
    "model.add( Dense(1, kernel_initializer='normal') )"
   ]
  },
  {
   "cell_type": "code",
   "execution_count": 21,
   "metadata": {},
   "outputs": [
    {
     "name": "stdout",
     "output_type": "stream",
     "text": [
      "WARNING:tensorflow:From c:\\Users\\19037\\Documents\\CPhys Tagging\\Cphys\\Lib\\site-packages\\keras\\src\\optimizers\\__init__.py:309: The name tf.train.Optimizer is deprecated. Please use tf.compat.v1.train.Optimizer instead.\n",
      "\n"
     ]
    }
   ],
   "source": [
    "model.compile(loss='mean_squared_error', optimizer='adam')"
   ]
  },
  {
   "cell_type": "code",
   "execution_count": 22,
   "metadata": {},
   "outputs": [
    {
     "name": "stdout",
     "output_type": "stream",
     "text": [
      "Epoch 1/50\n",
      "WARNING:tensorflow:From c:\\Users\\19037\\Documents\\CPhys Tagging\\Cphys\\Lib\\site-packages\\keras\\src\\utils\\tf_utils.py:492: The name tf.ragged.RaggedTensorValue is deprecated. Please use tf.compat.v1.ragged.RaggedTensorValue instead.\n",
      "\n",
      "875/875 [==============================] - 2s 1ms/step - loss: 0.6859\n",
      "Epoch 2/50\n",
      "875/875 [==============================] - 1s 987us/step - loss: 0.4611\n",
      "Epoch 3/50\n",
      "875/875 [==============================] - 1s 969us/step - loss: 0.3937\n",
      "Epoch 4/50\n",
      "875/875 [==============================] - 1s 958us/step - loss: 0.3494\n",
      "Epoch 5/50\n",
      "875/875 [==============================] - 1s 975us/step - loss: 0.3234\n",
      "Epoch 6/50\n",
      "875/875 [==============================] - 1s 982us/step - loss: 0.3044\n",
      "Epoch 7/50\n",
      "875/875 [==============================] - 1s 1ms/step - loss: 0.2894\n",
      "Epoch 8/50\n",
      "875/875 [==============================] - 1s 989us/step - loss: 0.2813\n",
      "Epoch 9/50\n",
      "875/875 [==============================] - 1s 978us/step - loss: 0.2725\n",
      "Epoch 10/50\n",
      "875/875 [==============================] - 1s 968us/step - loss: 0.2678\n",
      "Epoch 11/50\n",
      "875/875 [==============================] - 1s 973us/step - loss: 0.2620\n",
      "Epoch 12/50\n",
      "875/875 [==============================] - 1s 1ms/step - loss: 0.2565\n",
      "Epoch 13/50\n",
      "875/875 [==============================] - 1s 1ms/step - loss: 0.2532\n",
      "Epoch 14/50\n",
      "875/875 [==============================] - 1s 1ms/step - loss: 0.2493\n",
      "Epoch 15/50\n",
      "875/875 [==============================] - 1s 1ms/step - loss: 0.2461\n",
      "Epoch 16/50\n",
      "875/875 [==============================] - 1s 1ms/step - loss: 0.2427\n",
      "Epoch 17/50\n",
      "875/875 [==============================] - 1s 1ms/step - loss: 0.2382\n",
      "Epoch 18/50\n",
      "875/875 [==============================] - 1s 1ms/step - loss: 0.2356\n",
      "Epoch 19/50\n",
      "875/875 [==============================] - 1s 996us/step - loss: 0.2337\n",
      "Epoch 20/50\n",
      "875/875 [==============================] - 1s 1ms/step - loss: 0.2302\n",
      "Epoch 21/50\n",
      "875/875 [==============================] - 1s 990us/step - loss: 0.2253\n",
      "Epoch 22/50\n",
      "875/875 [==============================] - 1s 981us/step - loss: 0.2210\n",
      "Epoch 23/50\n",
      "875/875 [==============================] - 1s 975us/step - loss: 0.2135\n",
      "Epoch 24/50\n",
      "875/875 [==============================] - 1s 1ms/step - loss: 0.2097\n",
      "Epoch 25/50\n",
      "875/875 [==============================] - 1s 1ms/step - loss: 0.2041\n",
      "Epoch 26/50\n",
      "875/875 [==============================] - 1s 1ms/step - loss: 0.1999\n",
      "Epoch 27/50\n",
      "875/875 [==============================] - 1s 988us/step - loss: 0.1977\n",
      "Epoch 28/50\n",
      "875/875 [==============================] - 1s 975us/step - loss: 0.1916\n",
      "Epoch 29/50\n",
      "875/875 [==============================] - 1s 996us/step - loss: 0.1884\n",
      "Epoch 30/50\n",
      "875/875 [==============================] - 1s 1ms/step - loss: 0.1868\n",
      "Epoch 31/50\n",
      "875/875 [==============================] - 1s 1ms/step - loss: 0.1829\n",
      "Epoch 32/50\n",
      "875/875 [==============================] - 1s 982us/step - loss: 0.1839\n",
      "Epoch 33/50\n",
      "875/875 [==============================] - 1s 954us/step - loss: 0.1801\n",
      "Epoch 34/50\n",
      "875/875 [==============================] - 1s 1ms/step - loss: 0.1781\n",
      "Epoch 35/50\n",
      "875/875 [==============================] - 1s 979us/step - loss: 0.1762\n",
      "Epoch 36/50\n",
      "875/875 [==============================] - 1s 970us/step - loss: 0.1763\n",
      "Epoch 37/50\n",
      "875/875 [==============================] - 1s 1ms/step - loss: 0.1741\n",
      "Epoch 38/50\n",
      "875/875 [==============================] - 1s 1ms/step - loss: 0.1715\n",
      "Epoch 39/50\n",
      "875/875 [==============================] - 1s 1ms/step - loss: 0.1696\n",
      "Epoch 40/50\n",
      "875/875 [==============================] - 1s 1ms/step - loss: 0.1681\n",
      "Epoch 41/50\n",
      "875/875 [==============================] - 1s 1ms/step - loss: 0.1687\n",
      "Epoch 42/50\n",
      "875/875 [==============================] - 1s 1ms/step - loss: 0.1653\n",
      "Epoch 43/50\n",
      "875/875 [==============================] - 1s 988us/step - loss: 0.1641\n",
      "Epoch 44/50\n",
      "875/875 [==============================] - 1s 961us/step - loss: 0.1630\n",
      "Epoch 45/50\n",
      "875/875 [==============================] - 1s 976us/step - loss: 0.1635\n",
      "Epoch 46/50\n",
      "875/875 [==============================] - 1s 1ms/step - loss: 0.1605\n",
      "Epoch 47/50\n",
      "875/875 [==============================] - 1s 971us/step - loss: 0.1622\n",
      "Epoch 48/50\n",
      "875/875 [==============================] - 1s 983us/step - loss: 0.1599\n",
      "Epoch 49/50\n",
      "875/875 [==============================] - 1s 1ms/step - loss: 0.1609\n",
      "Epoch 50/50\n",
      "875/875 [==============================] - 1s 1ms/step - loss: 0.1586\n"
     ]
    },
    {
     "data": {
      "text/plain": [
       "<keras.src.callbacks.History at 0x195bd57ab90>"
      ]
     },
     "execution_count": 22,
     "metadata": {},
     "output_type": "execute_result"
    }
   ],
   "source": [
    "#fitting model to training set\n",
    "model.fit(x_train, y_train, batch_size=20, epochs=50, verbose=1)"
   ]
  },
  {
   "cell_type": "code",
   "execution_count": 35,
   "metadata": {},
   "outputs": [
    {
     "data": {
      "text/plain": [
       "(7500, 10)"
      ]
     },
     "execution_count": 35,
     "metadata": {},
     "output_type": "execute_result"
    }
   ],
   "source": [
    "#y_test.shape\n",
    "x_test.shape\n",
    "#x_train.shape\n",
    "#y_train.shape"
   ]
  },
  {
   "cell_type": "code",
   "execution_count": 47,
   "metadata": {},
   "outputs": [
    {
     "name": "stdout",
     "output_type": "stream",
     "text": [
      "235/235 [==============================] - 0s 1ms/step\n"
     ]
    },
    {
     "data": {
      "text/plain": [
       "array([[34.20508126],\n",
       "       [27.25197206],\n",
       "       [28.94954979],\n",
       "       ...,\n",
       "       [48.30695669],\n",
       "       [20.28577168],\n",
       "       [57.7925801 ]])"
      ]
     },
     "execution_count": 47,
     "metadata": {},
     "output_type": "execute_result"
    }
   ],
   "source": [
    "APE_arr = 100*(np.abs(y_test - model.predict(x_test))/np.abs(y_test))"
   ]
  },
  {
   "cell_type": "code",
   "execution_count": 51,
   "metadata": {},
   "outputs": [
    {
     "name": "stdout",
     "output_type": "stream",
     "text": [
      "235/235 [==============================] - 0s 905us/step\n"
     ]
    },
    {
     "data": {
      "text/plain": [
       "2.2248307299833883"
      ]
     },
     "execution_count": 51,
     "metadata": {},
     "output_type": "execute_result"
    }
   ],
   "source": [
    "from sklearn.metrics import mean_absolute_percentage_error\n",
    "mean_absolute_percentage_error(y_test, model.predict(x_test))"
   ]
  },
  {
   "cell_type": "code",
   "execution_count": 43,
   "metadata": {},
   "outputs": [
    {
     "name": "stdout",
     "output_type": "stream",
     "text": [
      "235/235 [==============================] - 0s 907us/step\n"
     ]
    },
    {
     "data": {
      "text/plain": [
       "222.48307299833883"
      ]
     },
     "execution_count": 43,
     "metadata": {},
     "output_type": "execute_result"
    }
   ],
   "source": [
    "np.mean( 100*(np.abs(y_test - model.predict(x_test))/np.abs(y_test))  )"
   ]
  },
  {
   "cell_type": "code",
   "execution_count": 63,
   "metadata": {},
   "outputs": [],
   "source": [
    "#create function to find best parameters\n",
    "def BestParam(x_train,  y_train, x_test, y_test):\n",
    "    #define list of hyper parameters\n",
    "    batch_size = [15, 20, 25, 30]\n",
    "    epoch_size = [30, 40, 50]\n",
    "    #activation = ['relu', 'tanh', 'sigmoid']\n",
    "    neurons = [9, 10, 11, 12]\n",
    "    \n",
    "    results = pd.DataFrame(columns=['TrialNum', 'Param', 'Accuracy'])\n",
    "\n",
    "    #intialize trials\n",
    "    TrialNum = 0\n",
    "    for b in batch_size:\n",
    "        for e in epoch_size:\n",
    "            for n in neurons:\n",
    "                TrialNum += 1\n",
    "                model = Sequential()\n",
    "                model.add( Dense(units=n, input_dim=x_train.shape[1], kernel_initializer='normal', activation='relu') )\n",
    "                model.add( Dense(units=n, kernel_initializer='normal', activation='relu') )\n",
    "                model.add( Dense(1, kernel_initializer='normal'))\n",
    "                model.compile(loss='mean_squared_error', optimizer='adam')\n",
    "                model.fit(x_train, y_train, batch_size=b, epochs=e, verbose=0)\n",
    "\n",
    "                errPer = mean_absolute_percentage_error(y_test, model.predict(x_test))\n",
    "                #acc = np.mean(100* ( np.abs(y_test-model.predict(x_test))/y_test ) )*(1/y_test.shape[0])\n",
    "\n",
    "                print(TrialNum, 'Param:', 'batch_size:', b, ';', 'epoch:', e, ';', 'neurons:', n, 'Accuracy:', 100-errPer)\n",
    "\n",
    "                results2 = pd.DataFrame(data=[[TrialNum, str(b)+';'+str(e)+';'+str(n), 100-errPer]], columns=['TrialNum', 'Param', 'Accuracy'])\n",
    "\n",
    "    return(results2)\n",
    "    "
   ]
  },
  {
   "cell_type": "code",
   "execution_count": 64,
   "metadata": {},
   "outputs": [
    {
     "name": "stdout",
     "output_type": "stream",
     "text": [
      "235/235 [==============================] - 0s 1ms/step\n",
      "1 Param: batch_size: 15 ; epoch: 30 ; neurons: 9 Accuracy: 98.13885178093145\n",
      "235/235 [==============================] - 0s 1ms/step\n",
      "2 Param: batch_size: 15 ; epoch: 30 ; neurons: 10 Accuracy: 98.55458709923818\n",
      "235/235 [==============================] - 0s 1ms/step\n",
      "3 Param: batch_size: 15 ; epoch: 30 ; neurons: 11 Accuracy: 98.68424663074514\n",
      "235/235 [==============================] - 0s 1ms/step\n",
      "4 Param: batch_size: 15 ; epoch: 30 ; neurons: 12 Accuracy: 98.79504126467913\n",
      "235/235 [==============================] - 1s 2ms/step\n",
      "5 Param: batch_size: 15 ; epoch: 40 ; neurons: 9 Accuracy: 97.91838739722154\n",
      "235/235 [==============================] - 0s 1ms/step\n",
      "6 Param: batch_size: 15 ; epoch: 40 ; neurons: 10 Accuracy: 98.91096470367778\n",
      "235/235 [==============================] - 0s 1ms/step\n",
      "7 Param: batch_size: 15 ; epoch: 40 ; neurons: 11 Accuracy: 97.94026715280229\n",
      "235/235 [==============================] - 0s 1ms/step\n",
      "8 Param: batch_size: 15 ; epoch: 40 ; neurons: 12 Accuracy: 98.89456516607589\n",
      "235/235 [==============================] - 0s 1ms/step\n",
      "9 Param: batch_size: 15 ; epoch: 50 ; neurons: 9 Accuracy: 98.12656821463477\n",
      "235/235 [==============================] - 0s 1ms/step\n",
      "10 Param: batch_size: 15 ; epoch: 50 ; neurons: 10 Accuracy: 98.71460406077416\n",
      "235/235 [==============================] - 1s 2ms/step\n",
      "11 Param: batch_size: 15 ; epoch: 50 ; neurons: 11 Accuracy: 98.56311996606564\n",
      "235/235 [==============================] - 0s 1ms/step\n",
      "12 Param: batch_size: 15 ; epoch: 50 ; neurons: 12 Accuracy: 98.84456197010427\n",
      "235/235 [==============================] - 1s 2ms/step\n",
      "13 Param: batch_size: 20 ; epoch: 30 ; neurons: 9 Accuracy: 98.13002600748763\n",
      "235/235 [==============================] - 1s 2ms/step\n",
      "14 Param: batch_size: 20 ; epoch: 30 ; neurons: 10 Accuracy: 97.94748702681217\n",
      "235/235 [==============================] - 1s 2ms/step\n",
      "15 Param: batch_size: 20 ; epoch: 30 ; neurons: 11 Accuracy: 98.38883114705355\n",
      "235/235 [==============================] - 0s 1ms/step\n",
      "16 Param: batch_size: 20 ; epoch: 30 ; neurons: 12 Accuracy: 98.65235544470693\n",
      "235/235 [==============================] - 1s 2ms/step\n",
      "17 Param: batch_size: 20 ; epoch: 40 ; neurons: 9 Accuracy: 98.89547712555937\n",
      "235/235 [==============================] - 1s 2ms/step\n",
      "18 Param: batch_size: 20 ; epoch: 40 ; neurons: 10 Accuracy: 98.32321862063704\n",
      "235/235 [==============================] - 0s 1ms/step\n",
      "19 Param: batch_size: 20 ; epoch: 40 ; neurons: 11 Accuracy: 98.5809128818628\n",
      "235/235 [==============================] - 0s 2ms/step\n",
      "20 Param: batch_size: 20 ; epoch: 40 ; neurons: 12 Accuracy: 98.87406777333983\n",
      "235/235 [==============================] - 1s 2ms/step\n",
      "21 Param: batch_size: 20 ; epoch: 50 ; neurons: 9 Accuracy: 98.24578431947197\n",
      "235/235 [==============================] - 0s 1ms/step\n",
      "22 Param: batch_size: 20 ; epoch: 50 ; neurons: 10 Accuracy: 98.29819390886459\n",
      "235/235 [==============================] - 0s 1ms/step\n",
      "23 Param: batch_size: 20 ; epoch: 50 ; neurons: 11 Accuracy: 98.8100705869602\n",
      "235/235 [==============================] - 0s 2ms/step\n",
      "24 Param: batch_size: 20 ; epoch: 50 ; neurons: 12 Accuracy: 98.95249907346304\n",
      "235/235 [==============================] - 1s 2ms/step\n",
      "25 Param: batch_size: 25 ; epoch: 30 ; neurons: 9 Accuracy: 98.06972205055258\n",
      "235/235 [==============================] - 1s 2ms/step\n",
      "26 Param: batch_size: 25 ; epoch: 30 ; neurons: 10 Accuracy: 98.83656690280037\n",
      "235/235 [==============================] - 1s 2ms/step\n",
      "27 Param: batch_size: 25 ; epoch: 30 ; neurons: 11 Accuracy: 98.18723016673908\n",
      "235/235 [==============================] - 0s 2ms/step\n",
      "28 Param: batch_size: 25 ; epoch: 30 ; neurons: 12 Accuracy: 98.46207675741418\n",
      "235/235 [==============================] - 1s 2ms/step\n",
      "29 Param: batch_size: 25 ; epoch: 40 ; neurons: 9 Accuracy: 98.04816758120924\n",
      "235/235 [==============================] - 0s 2ms/step\n",
      "30 Param: batch_size: 25 ; epoch: 40 ; neurons: 10 Accuracy: 98.15125195674379\n",
      "235/235 [==============================] - 1s 2ms/step\n",
      "31 Param: batch_size: 25 ; epoch: 40 ; neurons: 11 Accuracy: 98.27957823652824\n",
      "235/235 [==============================] - 1s 2ms/step\n",
      "32 Param: batch_size: 25 ; epoch: 40 ; neurons: 12 Accuracy: 98.98368329547633\n",
      "235/235 [==============================] - 0s 1ms/step\n",
      "33 Param: batch_size: 25 ; epoch: 50 ; neurons: 9 Accuracy: 98.41457971355969\n",
      "235/235 [==============================] - 0s 1ms/step\n",
      "34 Param: batch_size: 25 ; epoch: 50 ; neurons: 10 Accuracy: 98.77095718975416\n",
      "235/235 [==============================] - 0s 2ms/step\n",
      "35 Param: batch_size: 25 ; epoch: 50 ; neurons: 11 Accuracy: 98.80203425383607\n",
      "235/235 [==============================] - 1s 2ms/step\n",
      "36 Param: batch_size: 25 ; epoch: 50 ; neurons: 12 Accuracy: 98.84896483851003\n",
      "235/235 [==============================] - 1s 2ms/step\n",
      "37 Param: batch_size: 30 ; epoch: 30 ; neurons: 9 Accuracy: 98.0526039632517\n",
      "235/235 [==============================] - 1s 2ms/step\n",
      "38 Param: batch_size: 30 ; epoch: 30 ; neurons: 10 Accuracy: 98.16382695016723\n",
      "235/235 [==============================] - 0s 2ms/step\n",
      "39 Param: batch_size: 30 ; epoch: 30 ; neurons: 11 Accuracy: 98.74518890740866\n",
      "235/235 [==============================] - 0s 1ms/step\n",
      "40 Param: batch_size: 30 ; epoch: 30 ; neurons: 12 Accuracy: 98.31080337665053\n",
      "235/235 [==============================] - 1s 2ms/step\n",
      "41 Param: batch_size: 30 ; epoch: 40 ; neurons: 9 Accuracy: 98.21243202324872\n",
      "235/235 [==============================] - 1s 2ms/step\n",
      "42 Param: batch_size: 30 ; epoch: 40 ; neurons: 10 Accuracy: 98.2735544806503\n",
      "235/235 [==============================] - 1s 2ms/step\n",
      "43 Param: batch_size: 30 ; epoch: 40 ; neurons: 11 Accuracy: 98.1949290075784\n",
      "235/235 [==============================] - 0s 1ms/step\n",
      "44 Param: batch_size: 30 ; epoch: 40 ; neurons: 12 Accuracy: 98.27898826390319\n",
      "235/235 [==============================] - 0s 2ms/step\n",
      "45 Param: batch_size: 30 ; epoch: 50 ; neurons: 9 Accuracy: 98.15747210548733\n",
      "235/235 [==============================] - 1s 2ms/step\n",
      "46 Param: batch_size: 30 ; epoch: 50 ; neurons: 10 Accuracy: 98.32600258776132\n",
      "235/235 [==============================] - 1s 3ms/step\n",
      "47 Param: batch_size: 30 ; epoch: 50 ; neurons: 11 Accuracy: 98.3721263036894\n",
      "235/235 [==============================] - 1s 2ms/step\n",
      "48 Param: batch_size: 30 ; epoch: 50 ; neurons: 12 Accuracy: 98.45948696276263\n"
     ]
    }
   ],
   "source": [
    "resultData = BestParam(x_train, y_train, x_test, y_test)"
   ]
  },
  {
   "cell_type": "code",
   "execution_count": 72,
   "metadata": {},
   "outputs": [
    {
     "data": {
      "text/plain": [
       "[<matplotlib.lines.Line2D at 0x1963c5113d0>]"
      ]
     },
     "execution_count": 72,
     "metadata": {},
     "output_type": "execute_result"
    },
    {
     "data": {
      "image/png": "[encoded data removed]",
      "text/plain": [
       "<Figure size 640x480 with 1 Axes>"
      ]
     },
     "metadata": {},
     "output_type": "display_data"
    }
   ],
   "source": [
    "import matplotlib\n",
    "import matplotlib.pyplot as plt\n",
    "#resultData.plot(x=resultData['Param'], y=resultData['Accuracy'], kind='line')\n",
    "plt.plot(resultData['Param'], resultData['Accuracy'])"
   ]
  },
  {
   "cell_type": "code",
   "execution_count": 73,
   "metadata": {},
   "outputs": [
    {
     "data": {
      "text/plain": [
       "<keras.src.callbacks.History at 0x1963ff3a5d0>"
      ]
     },
     "execution_count": 73,
     "metadata": {},
     "output_type": "execute_result"
    }
   ],
   "source": [
    "model.fit(x_train, y_train, batch_size=5, epochs=40, verbose=0)"
   ]
  },
  {
   "cell_type": "code",
   "execution_count": 74,
   "metadata": {},
   "outputs": [
    {
     "name": "stdout",
     "output_type": "stream",
     "text": [
      "235/235 [==============================] - 0s 2ms/step\n"
     ]
    }
   ],
   "source": [
    "#generate predictions on testing data\n",
    "Predictions = model.predict(x_test)"
   ]
  },
  {
   "cell_type": "code",
   "execution_count": 76,
   "metadata": {},
   "outputs": [],
   "source": [
    "#scaling predicted back to original scale\n",
    "Predictions = TargVarScalerFit.inverse_transform(Predictions)"
   ]
  },
  {
   "cell_type": "code",
   "execution_count": 77,
   "metadata": {},
   "outputs": [],
   "source": [
    "#scale y_test back to original scale\n",
    "y_test_OG = TargVarScalerFit.inverse_transform(y_test)"
   ]
  },
  {
   "cell_type": "code",
   "execution_count": 78,
   "metadata": {},
   "outputs": [],
   "source": [
    "test_data = PredScalerFit.inverse_transform(x_test)"
   ]
  },
  {
   "cell_type": "code",
   "execution_count": 79,
   "metadata": {},
   "outputs": [
    {
     "data": {
      "text/html": [
       "<div>\n",
       "<style scoped>\n",
       "    .dataframe tbody tr th:only-of-type {\n",
       "        vertical-align: middle;\n",
       "    }\n",
       "\n",
       "    .dataframe tbody tr th {\n",
       "        vertical-align: top;\n",
       "    }\n",
       "\n",
       "    .dataframe thead th {\n",
       "        text-align: right;\n",
       "    }\n",
       "</style>\n",
       "<table border=\"1\" class=\"dataframe\">\n",
       "  <thead>\n",
       "    <tr style=\"text-align: right;\">\n",
       "      <th></th>\n",
       "      <th>Muon 1 Energy</th>\n",
       "      <th>Muon 2 Energy</th>\n",
       "      <th>Muon 1 pT</th>\n",
       "      <th>Muon 2 pT</th>\n",
       "      <th>Muon 1 Eta</th>\n",
       "      <th>Muon 2 Eta</th>\n",
       "      <th>Muon 1 Phi</th>\n",
       "      <th>Muon 2 Phi</th>\n",
       "      <th>Muon 1 Rapidity</th>\n",
       "      <th>Muon 2 Rapidity</th>\n",
       "      <th>Pair Mass</th>\n",
       "      <th>Pair Mass Predict</th>\n",
       "    </tr>\n",
       "  </thead>\n",
       "  <tbody>\n",
       "    <tr>\n",
       "      <th>0</th>\n",
       "      <td>106.93600</td>\n",
       "      <td>61.49450</td>\n",
       "      <td>18.57220</td>\n",
       "      <td>15.90080</td>\n",
       "      <td>-2.436080</td>\n",
       "      <td>-2.028570</td>\n",
       "      <td>-1.099610</td>\n",
       "      <td>-0.722575</td>\n",
       "      <td>-2.436070</td>\n",
       "      <td>-2.028550</td>\n",
       "      <td>10.19830</td>\n",
       "      <td>7.274010</td>\n",
       "    </tr>\n",
       "    <tr>\n",
       "      <th>1</th>\n",
       "      <td>29.60950</td>\n",
       "      <td>23.59960</td>\n",
       "      <td>17.70010</td>\n",
       "      <td>5.50744</td>\n",
       "      <td>1.103220</td>\n",
       "      <td>2.134370</td>\n",
       "      <td>-2.866180</td>\n",
       "      <td>1.467540</td>\n",
       "      <td>1.103210</td>\n",
       "      <td>2.134190</td>\n",
       "      <td>19.41240</td>\n",
       "      <td>15.629046</td>\n",
       "    </tr>\n",
       "    <tr>\n",
       "      <th>2</th>\n",
       "      <td>10.84900</td>\n",
       "      <td>6.20887</td>\n",
       "      <td>10.13040</td>\n",
       "      <td>5.94166</td>\n",
       "      <td>-0.374307</td>\n",
       "      <td>-0.298299</td>\n",
       "      <td>-0.101024</td>\n",
       "      <td>-0.877400</td>\n",
       "      <td>-0.374288</td>\n",
       "      <td>-0.298253</td>\n",
       "      <td>5.94999</td>\n",
       "      <td>4.653891</td>\n",
       "    </tr>\n",
       "    <tr>\n",
       "      <th>3</th>\n",
       "      <td>8.16995</td>\n",
       "      <td>10.99270</td>\n",
       "      <td>3.88724</td>\n",
       "      <td>2.77411</td>\n",
       "      <td>1.373700</td>\n",
       "      <td>2.053690</td>\n",
       "      <td>-2.844720</td>\n",
       "      <td>-2.751520</td>\n",
       "      <td>1.373380</td>\n",
       "      <td>2.052990</td>\n",
       "      <td>2.30002</td>\n",
       "      <td>2.302722</td>\n",
       "    </tr>\n",
       "    <tr>\n",
       "      <th>4</th>\n",
       "      <td>10.28830</td>\n",
       "      <td>5.58624</td>\n",
       "      <td>4.06831</td>\n",
       "      <td>3.48136</td>\n",
       "      <td>-1.579260</td>\n",
       "      <td>-1.050420</td>\n",
       "      <td>2.629650</td>\n",
       "      <td>2.873570</td>\n",
       "      <td>-1.578950</td>\n",
       "      <td>-1.050060</td>\n",
       "      <td>2.30323</td>\n",
       "      <td>2.434721</td>\n",
       "    </tr>\n",
       "  </tbody>\n",
       "</table>\n",
       "</div>"
      ],
      "text/plain": [
       "   Muon 1 Energy  Muon 2 Energy  Muon 1 pT  Muon 2 pT  Muon 1 Eta  Muon 2 Eta  \\\n",
       "0      106.93600       61.49450   18.57220   15.90080   -2.436080   -2.028570   \n",
       "1       29.60950       23.59960   17.70010    5.50744    1.103220    2.134370   \n",
       "2       10.84900        6.20887   10.13040    5.94166   -0.374307   -0.298299   \n",
       "3        8.16995       10.99270    3.88724    2.77411    1.373700    2.053690   \n",
       "4       10.28830        5.58624    4.06831    3.48136   -1.579260   -1.050420   \n",
       "\n",
       "   Muon 1 Phi  Muon 2 Phi  Muon 1 Rapidity  Muon 2 Rapidity  Pair Mass  \\\n",
       "0   -1.099610   -0.722575        -2.436070        -2.028550   10.19830   \n",
       "1   -2.866180    1.467540         1.103210         2.134190   19.41240   \n",
       "2   -0.101024   -0.877400        -0.374288        -0.298253    5.94999   \n",
       "3   -2.844720   -2.751520         1.373380         2.052990    2.30002   \n",
       "4    2.629650    2.873570        -1.578950        -1.050060    2.30323   \n",
       "\n",
       "   Pair Mass Predict  \n",
       "0           7.274010  \n",
       "1          15.629046  \n",
       "2           4.653891  \n",
       "3           2.302722  \n",
       "4           2.434721  "
      ]
     },
     "execution_count": 79,
     "metadata": {},
     "output_type": "execute_result"
    }
   ],
   "source": [
    "TestData = pd.DataFrame(data=test_data, columns=Predictors)\n",
    "TestData['Pair Mass'] =  y_test_OG\n",
    "TestData['Pair Mass Predict'] = Predictions\n",
    "TestData.head()"
   ]
  },
  {
   "cell_type": "code",
   "execution_count": 80,
   "metadata": {},
   "outputs": [
    {
     "data": {
      "text/plain": [
       "99.7033413318337"
      ]
     },
     "execution_count": 80,
     "metadata": {},
     "output_type": "execute_result"
    }
   ],
   "source": [
    "100-mean_absolute_percentage_error(TestData['Pair Mass'], TestData['Pair Mass Predict'])"
   ]
  },
  {
   "cell_type": "code",
   "execution_count": null,
   "metadata": {},
   "outputs": [],
   "source": []
  }
 ],
 "metadata": {
  "kernelspec": {
   "display_name": "Cphys",
   "language": "python",
   "name": "python3"
  },
  "language_info": {
   "codemirror_mode": {
    "name": "ipython",
    "version": 3
   },
   "file_extension": ".py",
   "mimetype": "text/x-python",
   "name": "python",
   "nbconvert_exporter": "python",
   "pygments_lexer": "ipython3",
   "version": "3.11.6"
  }
 },
 "nbformat": 4,
 "nbformat_minor": 2
}
