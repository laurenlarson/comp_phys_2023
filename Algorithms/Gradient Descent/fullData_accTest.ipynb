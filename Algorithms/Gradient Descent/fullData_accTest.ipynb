{
 "cells": [
  {
   "cell_type": "code",
   "execution_count": 1,
   "metadata": {},
   "outputs": [
    {
     "name": "stdout",
     "output_type": "stream",
     "text": [
      "WARNING:tensorflow:From c:\\Users\\19037\\Documents\\CPhys Tagging\\Cphys\\Lib\\site-packages\\keras\\src\\losses.py:2976: The name tf.losses.sparse_softmax_cross_entropy is deprecated. Please use tf.compat.v1.losses.sparse_softmax_cross_entropy instead.\n",
      "\n"
     ]
    }
   ],
   "source": [
    "import pandas as pd\n",
    "import numpy as np\n",
    "from keras.models import Sequential\n",
    "from keras.layers import Dense\n",
    "from sklearn.preprocessing import StandardScaler\n",
    "from sklearn.model_selection import train_test_split\n",
    "from sklearn.metrics import mean_absolute_percentage_error"
   ]
  },
  {
   "cell_type": "markdown",
   "metadata": {},
   "source": [
    "# Load data and define input/output variables "
   ]
  },
  {
   "cell_type": "code",
   "execution_count": 2,
   "metadata": {},
   "outputs": [],
   "source": [
    "df = pd.read_csv('C:/Users/19037/Documents/CPhys Tagging/data_100Kevt.csv')\n",
    "TargetVar = ['Pair Mass']\n",
    "Predictors = ['Muon 1 Energy', 'Muon 2 Energy', 'Muon 1 pT', 'Muon 2 pT', 'Muon 1 Eta', 'Muon 2 Eta', 'Muon 1 Phi', 'Muon 2 Phi','Muon 1 Rapidity', 'Muon 2 Rapidity']"
   ]
  },
  {
   "cell_type": "code",
   "execution_count": 4,
   "metadata": {},
   "outputs": [],
   "source": [
    "# Normalize our data for compatibility with our model\n",
    "PredScaler = StandardScaler()\n",
    "TargetVarScaler =StandardScaler()\n",
    "x = df[Predictors].values\n",
    "y = df[TargetVar].values\n",
    "PredScalerFit = PredScaler.fit(x)\n",
    "TargVarScalerFit = TargetVarScaler.fit(y)"
   ]
  },
  {
   "cell_type": "code",
   "execution_count": null,
   "metadata": {},
   "outputs": [],
   "source": [
    "x = PredScalerFit.transform(x)\n",
    "y = TargVarScalerFit.transform(y)\n",
    "x_train, x_test, y_train, y_test = train_test_split(x, y, test_size=0.3, random_state=42) # Split our dataset into a train and test subset"
   ]
  },
  {
   "cell_type": "markdown",
   "metadata": {},
   "source": [
    "# Defining our model"
   ]
  },
  {
   "cell_type": "code",
   "execution_count": null,
   "metadata": {},
   "outputs": [
    {
     "name": "stdout",
     "output_type": "stream",
     "text": [
      "WARNING:tensorflow:From c:\\Users\\19037\\Documents\\CPhys Tagging\\Cphys\\Lib\\site-packages\\keras\\src\\backend.py:873: The name tf.get_default_graph is deprecated. Please use tf.compat.v1.get_default_graph instead.\n",
      "\n",
      "WARNING:tensorflow:From c:\\Users\\19037\\Documents\\CPhys Tagging\\Cphys\\Lib\\site-packages\\keras\\src\\optimizers\\__init__.py:309: The name tf.train.Optimizer is deprecated. Please use tf.compat.v1.train.Optimizer instead.\n",
      "\n"
     ]
    }
   ],
   "source": [
    "model = Sequential() # Define a sequential model\n",
    "model.add( Dense(units=12, input_dim=10, kernel_initializer='normal', activation='relu') ) # Create an initial layer\n",
    "model.add( Dense(units=12, kernel_initializer='normal', activation='relu') ) # Create hidden layers\n",
    "model.add( Dense(1, kernel_initializer='normal') ) # Create an output vector\n",
    "model.compile(loss='mean_squared_error', optimizer='adam') # Compile our model using a mean square error loss function"
   ]
  },
  {
   "cell_type": "code",
   "execution_count": null,
   "metadata": {},
   "outputs": [
    {
     "name": "stdout",
     "output_type": "stream",
     "text": [
      "Epoch 1/40\n",
      "47456/47456 [==============================] - 111s 2ms/step - loss: 0.1504\n",
      "Epoch 2/40\n",
      "47456/47456 [==============================] - 97s 2ms/step - loss: 0.1774\n",
      "Epoch 3/40\n",
      "47456/47456 [==============================] - 122s 3ms/step - loss: 0.1238\n",
      "Epoch 4/40\n",
      "47456/47456 [==============================] - 143s 3ms/step - loss: 0.1992\n",
      "Epoch 5/40\n",
      "47456/47456 [==============================] - 123s 3ms/step - loss: 0.1660\n",
      "Epoch 6/40\n",
      "47456/47456 [==============================] - 105s 2ms/step - loss: 0.1696\n",
      "Epoch 7/40\n",
      "47456/47456 [==============================] - 127s 3ms/step - loss: 0.1314\n",
      "Epoch 8/40\n",
      "47456/47456 [==============================] - 116s 2ms/step - loss: 0.1529\n",
      "Epoch 9/40\n",
      "47456/47456 [==============================] - 124s 3ms/step - loss: 0.1406\n",
      "Epoch 10/40\n",
      "47456/47456 [==============================] - 147s 3ms/step - loss: 0.1367\n",
      "Epoch 11/40\n",
      "47456/47456 [==============================] - 139s 3ms/step - loss: 0.1306\n",
      "Epoch 12/40\n",
      "47456/47456 [==============================] - 113s 2ms/step - loss: 0.1523\n",
      "Epoch 13/40\n",
      "47456/47456 [==============================] - 206s 4ms/step - loss: 0.1097\n",
      "Epoch 14/40\n",
      "47456/47456 [==============================] - 132s 3ms/step - loss: 0.1383\n",
      "Epoch 15/40\n",
      "47456/47456 [==============================] - 94s 2ms/step - loss: 0.1191\n",
      "Epoch 16/40\n",
      "47456/47456 [==============================] - 89s 2ms/step - loss: 0.1359\n",
      "Epoch 17/40\n",
      "47456/47456 [==============================] - 85s 2ms/step - loss: 0.1278\n",
      "Epoch 18/40\n",
      "47456/47456 [==============================] - 91s 2ms/step - loss: 0.1193\n",
      "Epoch 19/40\n",
      "47456/47456 [==============================] - 121s 3ms/step - loss: 0.1107\n",
      "Epoch 20/40\n",
      "47456/47456 [==============================] - 99s 2ms/step - loss: 0.1372\n",
      "Epoch 21/40\n",
      "47456/47456 [==============================] - 82s 2ms/step - loss: 0.1308\n",
      "Epoch 22/40\n",
      "47456/47456 [==============================] - 86s 2ms/step - loss: 0.1911\n",
      "Epoch 23/40\n",
      "47456/47456 [==============================] - 93s 2ms/step - loss: 0.1141\n",
      "Epoch 24/40\n",
      "47456/47456 [==============================] - 90s 2ms/step - loss: 0.1314\n",
      "Epoch 25/40\n",
      "47456/47456 [==============================] - 111s 2ms/step - loss: 0.1692\n",
      "Epoch 26/40\n",
      "47456/47456 [==============================] - 100s 2ms/step - loss: 0.1715\n",
      "Epoch 27/40\n",
      "47456/47456 [==============================] - 86s 2ms/step - loss: 0.1613\n",
      "Epoch 28/40\n",
      "47456/47456 [==============================] - 89s 2ms/step - loss: 0.1499\n",
      "Epoch 29/40\n",
      "47456/47456 [==============================] - 81s 2ms/step - loss: 0.1668\n",
      "Epoch 30/40\n",
      "47456/47456 [==============================] - 85s 2ms/step - loss: 0.1509\n",
      "Epoch 31/40\n",
      "47456/47456 [==============================] - 244s 5ms/step - loss: 0.1542\n",
      "Epoch 32/40\n",
      "47456/47456 [==============================] - 110s 2ms/step - loss: 0.1371\n",
      "Epoch 33/40\n",
      "47456/47456 [==============================] - 229s 5ms/step - loss: 0.1233\n",
      "Epoch 34/40\n",
      "47456/47456 [==============================] - 104s 2ms/step - loss: 0.1308\n",
      "Epoch 35/40\n",
      "47456/47456 [==============================] - 181s 4ms/step - loss: 0.1242\n",
      "Epoch 36/40\n",
      "47456/47456 [==============================] - 93s 2ms/step - loss: 0.1655\n",
      "Epoch 37/40\n",
      "47456/47456 [==============================] - 100s 2ms/step - loss: 0.1810\n",
      "Epoch 38/40\n",
      "47456/47456 [==============================] - 100s 2ms/step - loss: 0.1611\n",
      "Epoch 39/40\n",
      "47456/47456 [==============================] - 110s 2ms/step - loss: 0.1749\n",
      "Epoch 40/40\n",
      "47456/47456 [==============================] - 97s 2ms/step - loss: 0.2415\n"
     ]
    },
    {
     "data": {
      "text/plain": [
       "<keras.src.callbacks.History at 0x14733314550>"
      ]
     },
     "execution_count": 10,
     "metadata": {},
     "output_type": "execute_result"
    }
   ],
   "source": [
    "model.fit(x_train, y_train, batch_size=5, epochs=40, verbose=1) # Run our training algorithm"
   ]
  },
  {
   "cell_type": "markdown",
   "metadata": {},
   "source": [
    "# Test our model using the testing data"
   ]
  },
  {
   "cell_type": "code",
   "execution_count": null,
   "metadata": {},
   "outputs": [
    {
     "name": "stdout",
     "output_type": "stream",
     "text": [
      "3178/3178 [==============================] - 6s 2ms/step\n"
     ]
    }
   ],
   "source": [
    "Predictions = model.predict(x_test) # Run our model on the test data\n",
    "Predictions = TargVarScalerFit.inverse_transform(Predictions)"
   ]
  },
  {
   "cell_type": "code",
   "execution_count": null,
   "metadata": {},
   "outputs": [],
   "source": [
    "y_test_OG = TargVarScalerFit.inverse_transform(y_test)\n",
    "test_data = PredScalerFit.inverse_transform(x_test)"
   ]
  },
  {
   "cell_type": "code",
   "execution_count": null,
   "metadata": {},
   "outputs": [
    {
     "data": {
      "text/html": [
       "<div>\n",
       "<style scoped>\n",
       "    .dataframe tbody tr th:only-of-type {\n",
       "        vertical-align: middle;\n",
       "    }\n",
       "\n",
       "    .dataframe tbody tr th {\n",
       "        vertical-align: top;\n",
       "    }\n",
       "\n",
       "    .dataframe thead th {\n",
       "        text-align: right;\n",
       "    }\n",
       "</style>\n",
       "<table border=\"1\" class=\"dataframe\">\n",
       "  <thead>\n",
       "    <tr style=\"text-align: right;\">\n",
       "      <th></th>\n",
       "      <th>Muon 1 Energy</th>\n",
       "      <th>Muon 2 Energy</th>\n",
       "      <th>Muon 1 pT</th>\n",
       "      <th>Muon 2 pT</th>\n",
       "      <th>Muon 1 Eta</th>\n",
       "      <th>Muon 2 Eta</th>\n",
       "      <th>Muon 1 Phi</th>\n",
       "      <th>Muon 2 Phi</th>\n",
       "      <th>Muon 1 Rapidity</th>\n",
       "      <th>Muon 2 Rapidity</th>\n",
       "      <th>Pair Mass</th>\n",
       "      <th>Pair Mass Predict</th>\n",
       "    </tr>\n",
       "  </thead>\n",
       "  <tbody>\n",
       "    <tr>\n",
       "      <th>0</th>\n",
       "      <td>98.26410</td>\n",
       "      <td>44.74300</td>\n",
       "      <td>61.25990</td>\n",
       "      <td>25.62050</td>\n",
       "      <td>-1.050210</td>\n",
       "      <td>-1.156280</td>\n",
       "      <td>-0.835095</td>\n",
       "      <td>-0.963018</td>\n",
       "      <td>-1.050200</td>\n",
       "      <td>-1.156270</td>\n",
       "      <td>6.57155</td>\n",
       "      <td>8.436204</td>\n",
       "    </tr>\n",
       "    <tr>\n",
       "      <th>1</th>\n",
       "      <td>58.27760</td>\n",
       "      <td>14.43760</td>\n",
       "      <td>13.57680</td>\n",
       "      <td>3.80249</td>\n",
       "      <td>2.136150</td>\n",
       "      <td>2.009490</td>\n",
       "      <td>2.366940</td>\n",
       "      <td>2.974120</td>\n",
       "      <td>2.136120</td>\n",
       "      <td>2.009120</td>\n",
       "      <td>4.37076</td>\n",
       "      <td>4.493526</td>\n",
       "    </tr>\n",
       "    <tr>\n",
       "      <th>2</th>\n",
       "      <td>7.08311</td>\n",
       "      <td>6.23815</td>\n",
       "      <td>3.03932</td>\n",
       "      <td>2.65291</td>\n",
       "      <td>-1.489520</td>\n",
       "      <td>1.499380</td>\n",
       "      <td>-1.590320</td>\n",
       "      <td>2.111440</td>\n",
       "      <td>-1.488980</td>\n",
       "      <td>1.498670</td>\n",
       "      <td>13.49910</td>\n",
       "      <td>13.899385</td>\n",
       "    </tr>\n",
       "    <tr>\n",
       "      <th>3</th>\n",
       "      <td>23.99840</td>\n",
       "      <td>10.49820</td>\n",
       "      <td>16.20920</td>\n",
       "      <td>7.30564</td>\n",
       "      <td>0.944799</td>\n",
       "      <td>0.903727</td>\n",
       "      <td>1.389940</td>\n",
       "      <td>1.023490</td>\n",
       "      <td>0.944784</td>\n",
       "      <td>0.903652</td>\n",
       "      <td>3.92819</td>\n",
       "      <td>4.377329</td>\n",
       "    </tr>\n",
       "    <tr>\n",
       "      <th>4</th>\n",
       "      <td>9.67744</td>\n",
       "      <td>19.52000</td>\n",
       "      <td>9.20167</td>\n",
       "      <td>3.66990</td>\n",
       "      <td>-0.320012</td>\n",
       "      <td>2.355450</td>\n",
       "      <td>2.725780</td>\n",
       "      <td>-0.785855</td>\n",
       "      <td>-0.319992</td>\n",
       "      <td>2.355050</td>\n",
       "      <td>23.67370</td>\n",
       "      <td>23.182703</td>\n",
       "    </tr>\n",
       "  </tbody>\n",
       "</table>\n",
       "</div>"
      ],
      "text/plain": [
       "   Muon 1 Energy  Muon 2 Energy  Muon 1 pT  Muon 2 pT  Muon 1 Eta  Muon 2 Eta  \\\n",
       "0       98.26410       44.74300   61.25990   25.62050   -1.050210   -1.156280   \n",
       "1       58.27760       14.43760   13.57680    3.80249    2.136150    2.009490   \n",
       "2        7.08311        6.23815    3.03932    2.65291   -1.489520    1.499380   \n",
       "3       23.99840       10.49820   16.20920    7.30564    0.944799    0.903727   \n",
       "4        9.67744       19.52000    9.20167    3.66990   -0.320012    2.355450   \n",
       "\n",
       "   Muon 1 Phi  Muon 2 Phi  Muon 1 Rapidity  Muon 2 Rapidity  Pair Mass  \\\n",
       "0   -0.835095   -0.963018        -1.050200        -1.156270    6.57155   \n",
       "1    2.366940    2.974120         2.136120         2.009120    4.37076   \n",
       "2   -1.590320    2.111440        -1.488980         1.498670   13.49910   \n",
       "3    1.389940    1.023490         0.944784         0.903652    3.92819   \n",
       "4    2.725780   -0.785855        -0.319992         2.355050   23.67370   \n",
       "\n",
       "   Pair Mass Predict  \n",
       "0           8.436204  \n",
       "1           4.493526  \n",
       "2          13.899385  \n",
       "3           4.377329  \n",
       "4          23.182703  "
      ]
     },
     "execution_count": 13,
     "metadata": {},
     "output_type": "execute_result"
    }
   ],
   "source": [
    "# Model prediction results\n",
    "TestData = pd.DataFrame(data=test_data, columns=Predictors)\n",
    "TestData['Pair Mass'] =  y_test_OG\n",
    "TestData['Pair Mass Predict'] = Predictions\n",
    "TestData.head()"
   ]
  },
  {
   "cell_type": "code",
   "execution_count": null,
   "metadata": {},
   "outputs": [
    {
     "data": {
      "text/plain": [
       "99.84552810744405"
      ]
     },
     "execution_count": 14,
     "metadata": {},
     "output_type": "execute_result"
    }
   ],
   "source": [
    "100-mean_absolute_percentage_error(TestData['Pair Mass'], TestData['Pair Mass Predict']) # Accuracy acheived"
   ]
  },
  {
   "cell_type": "code",
   "execution_count": null,
   "metadata": {},
   "outputs": [],
   "source": []
  }
 ],
 "metadata": {
  "kernelspec": {
   "display_name": "Cphys",
   "language": "python",
   "name": "python3"
  },
  "language_info": {
   "codemirror_mode": {
    "name": "ipython",
    "version": 3
   },
   "file_extension": ".py",
   "mimetype": "text/x-python",
   "name": "python",
   "nbconvert_exporter": "python",
   "pygments_lexer": "ipython3",
   "version": "3.11.6"
  }
 },
 "nbformat": 4,
 "nbformat_minor": 2
}
